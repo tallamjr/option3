{
 "cells": [
  {
   "cell_type": "markdown",
   "metadata": {},
   "source": [
    "# Setup"
   ]
  },
  {
   "cell_type": "code",
   "execution_count": 1,
   "metadata": {},
   "outputs": [],
   "source": [
    "import os\n",
    "import time\n",
    "from pyspark.sql import SparkSession\n",
    "from pyspark.sql.types import *\n",
    "from pyspark.sql.functions import from_json, col\n",
    "\n",
    "# For use in Chapter 9 - Data Sources\n",
    "# https://mvnrepository.com/artifact/org.xerial/sqlite-jdbc\n",
    "packages = \"org.apache.spark:spark-sql-kafka-0-10_2.11:2.4.4\"\n",
    "\n",
    "os.environ[\"PYSPARK_SUBMIT_ARGS\"] = (\n",
    "    \"--packages {0} pyspark-shell\".format(packages)\n",
    ")\n",
    "\n",
    "def logLevel(spark):\n",
    "    # REF: https://stackoverflow.com/questions/25193488/how-to-turn-off-info-logging-in-spark\n",
    "    sc = spark.sparkContext\n",
    "    log4jLogger = sc._jvm.org.apache.log4j\n",
    "    log4jLogger.Logger.getLogger(\"org\").setLevel(log4jLogger.Level.ERROR)\n",
    "    log = log4jLogger.LogManager.getLogger(__name__)\n",
    "    log.warn(\"Custom Warning\")\n",
    "\n",
    "\n",
    "spark = SparkSession.builder \\\n",
    "    .master(\"local[*]\") \\\n",
    "    .appName(\"Demo\") \\\n",
    "    .getOrCreate()\n",
    "\n",
    "\n",
    "logLevel(spark)\n",
    "\n",
    "spark.sparkContext.setLogLevel(\"ERROR\")"
   ]
  },
  {
   "cell_type": "code",
   "execution_count": 4,
   "metadata": {},
   "outputs": [],
   "source": [
    "import pyspark.sql.functions as psf\n",
    "\n",
    "\n",
    "def parseJSONCols(df, *cols, sanitize=True):\n",
    "    \"\"\"Auto infer the schema of a json column and parse into a struct.\n",
    "\n",
    "    rdd-based schema inference works if you have well-formatted JSON,\n",
    "    like ``{\"key\": \"value\", ...}``, but breaks if your 'JSON' is just a\n",
    "    string (``\"data\"``) or is an array (``[1, 2, 3]``). In those cases you\n",
    "    can fix everything by wrapping the data in another JSON object\n",
    "    (``{\"key\": [1, 2, 3]}``). The ``sanitize`` option (default True)\n",
    "    automatically performs the wrapping and unwrapping.\n",
    "\n",
    "    The schema inference is based on this\n",
    "    `SO Post <https://stackoverflow.com/a/45880574)/>`_.\n",
    "\n",
    "    Parameters\n",
    "    ----------\n",
    "    df : pyspark dataframe\n",
    "        Dataframe containing the JSON cols.\n",
    "    *cols : string(s)\n",
    "        Names of the columns containing JSON.\n",
    "    sanitize : boolean\n",
    "        Flag indicating whether you'd like to sanitize your records\n",
    "        by wrapping and unwrapping them in another JSON object layer.\n",
    "\n",
    "    Returns\n",
    "    -------\n",
    "    pyspark dataframe\n",
    "        A dataframe with the decoded columns.\n",
    "    \"\"\"\n",
    "    res = df\n",
    "    for i in cols:\n",
    "        # sanitize if requested.\n",
    "        if sanitize:\n",
    "            res = (\n",
    "                res.withColumn(\n",
    "                    i,\n",
    "                    psf.concat(psf.lit('{\"data\": '), i, psf.lit('}'))\n",
    "                )\n",
    "            )\n",
    "        # infer schema and apply it\n",
    "        schema = spark.read.json(res.rdd.map(lambda x: x[i])).schema\n",
    "        res = res.withColumn(i, psf.from_json(psf.col(i), schema))\n",
    "\n",
    "        # unpack the wrapped object if needed\n",
    "        if sanitize:\n",
    "            res = res.withColumn(i, psf.col(i).data)\n",
    "    return res"
   ]
  },
  {
   "cell_type": "markdown",
   "metadata": {},
   "source": [
    "# Read stream of data"
   ]
  },
  {
   "cell_type": "code",
   "execution_count": 5,
   "metadata": {},
   "outputs": [],
   "source": [
    "df = spark \\\n",
    "    .readStream \\\n",
    "    .format(\"kafka\") \\\n",
    "    .option(\"kafka.bootstrap.servers\", \"localhost:9092\") \\\n",
    "    .option(\"startingOffsets\", \"latest\") \\\n",
    "    .option(\"subscribe\", \"twitter_tweets\") \\\n",
    "    .load() \\\n",
    "    .selectExpr(\"CAST(value AS STRING) as tweets\")"
   ]
  },
  {
   "cell_type": "code",
   "execution_count": 6,
   "metadata": {},
   "outputs": [
    {
     "name": "stdout",
     "output_type": "stream",
     "text": [
      "root\n",
      " |-- tweets: string (nullable = true)\n",
      "\n"
     ]
    }
   ],
   "source": [
    "df.printSchema()"
   ]
  },
  {
   "cell_type": "code",
   "execution_count": 8,
   "metadata": {},
   "outputs": [],
   "source": [
    "tweets = df.writeStream \\\n",
    "                    .format(\"memory\") \\\n",
    "                    .queryName(\"tweeters\") \\\n",
    "                    .outputMode(\"update\") \\\n",
    "                    .start()"
   ]
  },
  {
   "cell_type": "code",
   "execution_count": 9,
   "metadata": {},
   "outputs": [],
   "source": [
    "df = spark.sql(\"\"\" SELECT * FROM tweeters \"\"\")"
   ]
  },
  {
   "cell_type": "code",
   "execution_count": 16,
   "metadata": {},
   "outputs": [
    {
     "name": "stdout",
     "output_type": "stream",
     "text": [
      "+--------------------+\n",
      "|              tweets|\n",
      "+--------------------+\n",
      "|{\"created_at\":\"Mo...|\n",
      "|{\"created_at\":\"Mo...|\n",
      "|{\"created_at\":\"Mo...|\n",
      "|{\"created_at\":\"Mo...|\n",
      "|{\"created_at\":\"Mo...|\n",
      "|{\"created_at\":\"Mo...|\n",
      "|{\"created_at\":\"Mo...|\n",
      "|{\"created_at\":\"Mo...|\n",
      "|{\"created_at\":\"Mo...|\n",
      "|{\"created_at\":\"Mo...|\n",
      "|{\"created_at\":\"Mo...|\n",
      "|{\"created_at\":\"Mo...|\n",
      "|{\"created_at\":\"Mo...|\n",
      "|{\"created_at\":\"Mo...|\n",
      "|{\"created_at\":\"Mo...|\n",
      "|{\"created_at\":\"Mo...|\n",
      "|{\"created_at\":\"Mo...|\n",
      "|{\"created_at\":\"Mo...|\n",
      "|{\"created_at\":\"Mo...|\n",
      "|{\"created_at\":\"Mo...|\n",
      "+--------------------+\n",
      "only showing top 20 rows\n",
      "\n"
     ]
    }
   ],
   "source": [
    "df.show()"
   ]
  },
  {
   "cell_type": "code",
   "execution_count": 17,
   "metadata": {},
   "outputs": [
    {
     "data": {
      "text/plain": [
       "StructType(List(StructField(tweets,StructType(List(StructField(contributors,StringType,true),StructField(coordinates,StructType(List(StructField(coordinates,ArrayType(DoubleType,true),true),StructField(type,StringType,true))),true),StructField(created_at,StringType,true),StructField(display_text_range,ArrayType(LongType,true),true),StructField(entities,StructType(List(StructField(hashtags,ArrayType(StructType(List(StructField(indices,ArrayType(LongType,true),true),StructField(text,StringType,true))),true),true),StructField(media,ArrayType(StructType(List(StructField(additional_media_info,StructType(List(StructField(monetizable,BooleanType,true))),true),StructField(display_url,StringType,true),StructField(expanded_url,StringType,true),StructField(id,LongType,true),StructField(id_str,StringType,true),StructField(indices,ArrayType(LongType,true),true),StructField(media_url,StringType,true),StructField(media_url_https,StringType,true),StructField(sizes,StructType(List(StructField(large,StructType(List(StructField(h,LongType,true),StructField(resize,StringType,true),StructField(w,LongType,true))),true),StructField(medium,StructType(List(StructField(h,LongType,true),StructField(resize,StringType,true),StructField(w,LongType,true))),true),StructField(small,StructType(List(StructField(h,LongType,true),StructField(resize,StringType,true),StructField(w,LongType,true))),true),StructField(thumb,StructType(List(StructField(h,LongType,true),StructField(resize,StringType,true),StructField(w,LongType,true))),true))),true),StructField(source_status_id,LongType,true),StructField(source_status_id_str,StringType,true),StructField(source_user_id,LongType,true),StructField(source_user_id_str,StringType,true),StructField(type,StringType,true),StructField(url,StringType,true))),true),true),StructField(symbols,ArrayType(StringType,true),true),StructField(urls,ArrayType(StructType(List(StructField(display_url,StringType,true),StructField(expanded_url,StringType,true),StructField(indices,ArrayType(LongType,true),true),StructField(url,StringType,true))),true),true),StructField(user_mentions,ArrayType(StructType(List(StructField(id,LongType,true),StructField(id_str,StringType,true),StructField(indices,ArrayType(LongType,true),true),StructField(name,StringType,true),StructField(screen_name,StringType,true))),true),true))),true),StructField(extended_entities,StructType(List(StructField(media,ArrayType(StructType(List(StructField(additional_media_info,StructType(List(StructField(monetizable,BooleanType,true))),true),StructField(display_url,StringType,true),StructField(expanded_url,StringType,true),StructField(id,LongType,true),StructField(id_str,StringType,true),StructField(indices,ArrayType(LongType,true),true),StructField(media_url,StringType,true),StructField(media_url_https,StringType,true),StructField(sizes,StructType(List(StructField(large,StructType(List(StructField(h,LongType,true),StructField(resize,StringType,true),StructField(w,LongType,true))),true),StructField(medium,StructType(List(StructField(h,LongType,true),StructField(resize,StringType,true),StructField(w,LongType,true))),true),StructField(small,StructType(List(StructField(h,LongType,true),StructField(resize,StringType,true),StructField(w,LongType,true))),true),StructField(thumb,StructType(List(StructField(h,LongType,true),StructField(resize,StringType,true),StructField(w,LongType,true))),true))),true),StructField(source_status_id,LongType,true),StructField(source_status_id_str,StringType,true),StructField(source_user_id,LongType,true),StructField(source_user_id_str,StringType,true),StructField(type,StringType,true),StructField(url,StringType,true),StructField(video_info,StructType(List(StructField(aspect_ratio,ArrayType(LongType,true),true),StructField(duration_millis,LongType,true),StructField(variants,ArrayType(StructType(List(StructField(bitrate,LongType,true),StructField(content_type,StringType,true),StructField(url,StringType,true))),true),true))),true))),true),true))),true),StructField(extended_tweet,StructType(List(StructField(display_text_range,ArrayType(LongType,true),true),StructField(entities,StructType(List(StructField(hashtags,ArrayType(StructType(List(StructField(indices,ArrayType(LongType,true),true),StructField(text,StringType,true))),true),true),StructField(media,ArrayType(StructType(List(StructField(additional_media_info,StructType(List(StructField(monetizable,BooleanType,true))),true),StructField(description,StringType,true),StructField(display_url,StringType,true),StructField(expanded_url,StringType,true),StructField(id,LongType,true),StructField(id_str,StringType,true),StructField(indices,ArrayType(LongType,true),true),StructField(media_url,StringType,true),StructField(media_url_https,StringType,true),StructField(sizes,StructType(List(StructField(large,StructType(List(StructField(h,LongType,true),StructField(resize,StringType,true),StructField(w,LongType,true))),true),StructField(medium,StructType(List(StructField(h,LongType,true),StructField(resize,StringType,true),StructField(w,LongType,true))),true),StructField(small,StructType(List(StructField(h,LongType,true),StructField(resize,StringType,true),StructField(w,LongType,true))),true),StructField(thumb,StructType(List(StructField(h,LongType,true),StructField(resize,StringType,true),StructField(w,LongType,true))),true))),true),StructField(source_status_id,LongType,true),StructField(source_status_id_str,StringType,true),StructField(source_user_id,LongType,true),StructField(source_user_id_str,StringType,true),StructField(type,StringType,true),StructField(url,StringType,true),StructField(video_info,StructType(List(StructField(aspect_ratio,ArrayType(LongType,true),true),StructField(duration_millis,LongType,true),StructField(variants,ArrayType(StructType(List(StructField(bitrate,LongType,true),StructField(content_type,StringType,true),StructField(url,StringType,true))),true),true))),true))),true),true),StructField(symbols,ArrayType(StringType,true),true),StructField(urls,ArrayType(StructType(List(StructField(display_url,StringType,true),StructField(expanded_url,StringType,true),StructField(indices,ArrayType(LongType,true),true),StructField(url,StringType,true))),true),true),StructField(user_mentions,ArrayType(StructType(List(StructField(id,LongType,true),StructField(id_str,StringType,true),StructField(indices,ArrayType(LongType,true),true),StructField(name,StringType,true),StructField(screen_name,StringType,true))),true),true))),true),StructField(extended_entities,StructType(List(StructField(media,ArrayType(StructType(List(StructField(additional_media_info,StructType(List(StructField(monetizable,BooleanType,true))),true),StructField(description,StringType,true),StructField(display_url,StringType,true),StructField(expanded_url,StringType,true),StructField(id,LongType,true),StructField(id_str,StringType,true),StructField(indices,ArrayType(LongType,true),true),StructField(media_url,StringType,true),StructField(media_url_https,StringType,true),StructField(sizes,StructType(List(StructField(large,StructType(List(StructField(h,LongType,true),StructField(resize,StringType,true),StructField(w,LongType,true))),true),StructField(medium,StructType(List(StructField(h,LongType,true),StructField(resize,StringType,true),StructField(w,LongType,true))),true),StructField(small,StructType(List(StructField(h,LongType,true),StructField(resize,StringType,true),StructField(w,LongType,true))),true),StructField(thumb,StructType(List(StructField(h,LongType,true),StructField(resize,StringType,true),StructField(w,LongType,true))),true))),true),StructField(source_status_id,LongType,true),StructField(source_status_id_str,StringType,true),StructField(source_user_id,LongType,true),StructField(source_user_id_str,StringType,true),StructField(type,StringType,true),StructField(url,StringType,true),StructField(video_info,StructType(List(StructField(aspect_ratio,ArrayType(LongType,true),true),StructField(duration_millis,LongType,true),StructField(variants,ArrayType(StructType(List(StructField(bitrate,LongType,true),StructField(content_type,StringType,true),StructField(url,StringType,true))),true),true))),true))),true),true))),true),StructField(full_text,StringType,true))),true),StructField(favorite_count,LongType,true),StructField(favorited,BooleanType,true),StructField(filter_level,StringType,true),StructField(geo,StructType(List(StructField(coordinates,ArrayType(DoubleType,true),true),StructField(type,StringType,true))),true),StructField(id,LongType,true),StructField(id_str,StringType,true),StructField(in_reply_to_screen_name,StringType,true),StructField(in_reply_to_status_id,LongType,true),StructField(in_reply_to_status_id_str,StringType,true),StructField(in_reply_to_user_id,LongType,true),StructField(in_reply_to_user_id_str,StringType,true),StructField(is_quote_status,BooleanType,true),StructField(lang,StringType,true),StructField(place,StructType(List(StructField(bounding_box,StructType(List(StructField(coordinates,ArrayType(ArrayType(ArrayType(DoubleType,true),true),true),true),StructField(type,StringType,true))),true),StructField(country,StringType,true),StructField(country_code,StringType,true),StructField(full_name,StringType,true),StructField(id,StringType,true),StructField(name,StringType,true),StructField(place_type,StringType,true),StructField(url,StringType,true))),true),StructField(possibly_sensitive,BooleanType,true),StructField(quote_count,LongType,true),StructField(quoted_status,StructType(List(StructField(contributors,StringType,true),StructField(coordinates,StringType,true),StructField(created_at,StringType,true),StructField(display_text_range,ArrayType(LongType,true),true),StructField(entities,StructType(List(StructField(hashtags,ArrayType(StructType(List(StructField(indices,ArrayType(LongType,true),true),StructField(text,StringType,true))),true),true),StructField(media,ArrayType(StructType(List(StructField(additional_media_info,StructType(List(StructField(monetizable,BooleanType,true))),true),StructField(display_url,StringType,true),StructField(expanded_url,StringType,true),StructField(id,LongType,true),StructField(id_str,StringType,true),StructField(indices,ArrayType(LongType,true),true),StructField(media_url,StringType,true),StructField(media_url_https,StringType,true),StructField(sizes,StructType(List(StructField(large,StructType(List(StructField(h,LongType,true),StructField(resize,StringType,true),StructField(w,LongType,true))),true),StructField(medium,StructType(List(StructField(h,LongType,true),StructField(resize,StringType,true),StructField(w,LongType,true))),true),StructField(small,StructType(List(StructField(h,LongType,true),StructField(resize,StringType,true),StructField(w,LongType,true))),true),StructField(thumb,StructType(List(StructField(h,LongType,true),StructField(resize,StringType,true),StructField(w,LongType,true))),true))),true),StructField(source_status_id,LongType,true),StructField(source_status_id_str,StringType,true),StructField(source_user_id,LongType,true),StructField(source_user_id_str,StringType,true),StructField(type,StringType,true),StructField(url,StringType,true))),true),true),StructField(symbols,ArrayType(StringType,true),true),StructField(urls,ArrayType(StructType(List(StructField(display_url,StringType,true),StructField(expanded_url,StringType,true),StructField(indices,ArrayType(LongType,true),true),StructField(url,StringType,true))),true),true),StructField(user_mentions,ArrayType(StructType(List(StructField(id,LongType,true),StructField(id_str,StringType,true),StructField(indices,ArrayType(LongType,true),true),StructField(name,StringType,true),StructField(screen_name,StringType,true))),true),true))),true),StructField(extended_entities,StructType(List(StructField(media,ArrayType(StructType(List(StructField(additional_media_info,StructType(List(StructField(monetizable,BooleanType,true))),true),StructField(display_url,StringType,true),StructField(expanded_url,StringType,true),StructField(id,LongType,true),StructField(id_str,StringType,true),StructField(indices,ArrayType(LongType,true),true),StructField(media_url,StringType,true),StructField(media_url_https,StringType,true),StructField(sizes,StructType(List(StructField(large,StructType(List(StructField(h,LongType,true),StructField(resize,StringType,true),StructField(w,LongType,true))),true),StructField(medium,StructType(List(StructField(h,LongType,true),StructField(resize,StringType,true),StructField(w,LongType,true))),true),StructField(small,StructType(List(StructField(h,LongType,true),StructField(resize,StringType,true),StructField(w,LongType,true))),true),StructField(thumb,StructType(List(StructField(h,LongType,true),StructField(resize,StringType,true),StructField(w,LongType,true))),true))),true),StructField(source_status_id,LongType,true),StructField(source_status_id_str,StringType,true),StructField(source_user_id,LongType,true),StructField(source_user_id_str,StringType,true),StructField(type,StringType,true),StructField(url,StringType,true),StructField(video_info,StructType(List(StructField(aspect_ratio,ArrayType(LongType,true),true),StructField(duration_millis,LongType,true),StructField(variants,ArrayType(StructType(List(StructField(bitrate,LongType,true),StructField(content_type,StringType,true),StructField(url,StringType,true))),true),true))),true))),true),true))),true),StructField(extended_tweet,StructType(List(StructField(display_text_range,ArrayType(LongType,true),true),StructField(entities,StructType(List(StructField(hashtags,ArrayType(StructType(List(StructField(indices,ArrayType(LongType,true),true),StructField(text,StringType,true))),true),true),StructField(media,ArrayType(StructType(List(StructField(additional_media_info,StructType(List(StructField(description,StringType,true),StructField(embeddable,BooleanType,true),StructField(monetizable,BooleanType,true),StructField(title,StringType,true))),true),StructField(display_url,StringType,true),StructField(expanded_url,StringType,true),StructField(id,LongType,true),StructField(id_str,StringType,true),StructField(indices,ArrayType(LongType,true),true),StructField(media_url,StringType,true),StructField(media_url_https,StringType,true),StructField(sizes,StructType(List(StructField(large,StructType(List(StructField(h,LongType,true),StructField(resize,StringType,true),StructField(w,LongType,true))),true),StructField(medium,StructType(List(StructField(h,LongType,true),StructField(resize,StringType,true),StructField(w,LongType,true))),true),StructField(small,StructType(List(StructField(h,LongType,true),StructField(resize,StringType,true),StructField(w,LongType,true))),true),StructField(thumb,StructType(List(StructField(h,LongType,true),StructField(resize,StringType,true),StructField(w,LongType,true))),true))),true),StructField(source_status_id,LongType,true),StructField(source_status_id_str,StringType,true),StructField(source_user_id,LongType,true),StructField(source_user_id_str,StringType,true),StructField(type,StringType,true),StructField(url,StringType,true),StructField(video_info,StructType(List(StructField(aspect_ratio,ArrayType(LongType,true),true),StructField(duration_millis,LongType,true),StructField(variants,ArrayType(StructType(List(StructField(bitrate,LongType,true),StructField(content_type,StringType,true),StructField(url,StringType,true))),true),true))),true))),true),true),StructField(symbols,ArrayType(StringType,true),true),StructField(urls,ArrayType(StructType(List(StructField(display_url,StringType,true),StructField(expanded_url,StringType,true),StructField(indices,ArrayType(LongType,true),true),StructField(url,StringType,true))),true),true),StructField(user_mentions,ArrayType(StructType(List(StructField(id,LongType,true),StructField(id_str,StringType,true),StructField(indices,ArrayType(LongType,true),true),StructField(name,StringType,true),StructField(screen_name,StringType,true))),true),true))),true),StructField(extended_entities,StructType(List(StructField(media,ArrayType(StructType(List(StructField(additional_media_info,StructType(List(StructField(description,StringType,true),StructField(embeddable,BooleanType,true),StructField(monetizable,BooleanType,true),StructField(title,StringType,true))),true),StructField(display_url,StringType,true),StructField(expanded_url,StringType,true),StructField(id,LongType,true),StructField(id_str,StringType,true),StructField(indices,ArrayType(LongType,true),true),StructField(media_url,StringType,true),StructField(media_url_https,StringType,true),StructField(sizes,StructType(List(StructField(large,StructType(List(StructField(h,LongType,true),StructField(resize,StringType,true),StructField(w,LongType,true))),true),StructField(medium,StructType(List(StructField(h,LongType,true),StructField(resize,StringType,true),StructField(w,LongType,true))),true),StructField(small,StructType(List(StructField(h,LongType,true),StructField(resize,StringType,true),StructField(w,LongType,true))),true),StructField(thumb,StructType(List(StructField(h,LongType,true),StructField(resize,StringType,true),StructField(w,LongType,true))),true))),true),StructField(source_status_id,LongType,true),StructField(source_status_id_str,StringType,true),StructField(source_user_id,LongType,true),StructField(source_user_id_str,StringType,true),StructField(type,StringType,true),StructField(url,StringType,true),StructField(video_info,StructType(List(StructField(aspect_ratio,ArrayType(LongType,true),true),StructField(duration_millis,LongType,true),StructField(variants,ArrayType(StructType(List(StructField(bitrate,LongType,true),StructField(content_type,StringType,true),StructField(url,StringType,true))),true),true))),true))),true),true))),true),StructField(full_text,StringType,true))),true),StructField(favorite_count,LongType,true),StructField(favorited,BooleanType,true),StructField(filter_level,StringType,true),StructField(geo,StringType,true),StructField(id,LongType,true),StructField(id_str,StringType,true),StructField(in_reply_to_screen_name,StringType,true),StructField(in_reply_to_status_id,LongType,true),StructField(in_reply_to_status_id_str,StringType,true),StructField(in_reply_to_user_id,LongType,true),StructField(in_reply_to_user_id_str,StringType,true),StructField(is_quote_status,BooleanType,true),StructField(lang,StringType,true),StructField(place,StructType(List(StructField(bounding_box,StructType(List(StructField(coordinates,ArrayType(ArrayType(ArrayType(DoubleType,true),true),true),true),StructField(type,StringType,true))),true),StructField(country,StringType,true),StructField(country_code,StringType,true),StructField(full_name,StringType,true),StructField(id,StringType,true),StructField(name,StringType,true),StructField(place_type,StringType,true),StructField(url,StringType,true))),true),StructField(possibly_sensitive,BooleanType,true),StructField(quote_count,LongType,true),StructField(reply_count,LongType,true),StructField(retweet_count,LongType,true),StructField(retweeted,BooleanType,true),StructField(source,StringType,true),StructField(text,StringType,true),StructField(truncated,BooleanType,true),StructField(user,StructType(List(StructField(contributors_enabled,BooleanType,true),StructField(created_at,StringType,true),StructField(default_profile,BooleanType,true),StructField(default_profile_image,BooleanType,true),StructField(description,StringType,true),StructField(favourites_count,LongType,true),StructField(follow_request_sent,StringType,true),StructField(followers_count,LongType,true),StructField(following,StringType,true),StructField(friends_count,LongType,true),StructField(geo_enabled,BooleanType,true),StructField(id,LongType,true),StructField(id_str,StringType,true),StructField(is_translator,BooleanType,true),StructField(lang,StringType,true),StructField(listed_count,LongType,true),StructField(location,StringType,true),StructField(name,StringType,true),StructField(notifications,StringType,true),StructField(profile_background_color,StringType,true),StructField(profile_background_image_url,StringType,true),StructField(profile_background_image_url_https,StringType,true),StructField(profile_background_tile,BooleanType,true),StructField(profile_banner_url,StringType,true),StructField(profile_image_url,StringType,true),StructField(profile_image_url_https,StringType,true),StructField(profile_link_color,StringType,true),StructField(profile_sidebar_border_color,StringType,true),StructField(profile_sidebar_fill_color,StringType,true),StructField(profile_text_color,StringType,true),StructField(profile_use_background_image,BooleanType,true),StructField(protected,BooleanType,true),StructField(screen_name,StringType,true),StructField(statuses_count,LongType,true),StructField(time_zone,StringType,true),StructField(translator_type,StringType,true),StructField(url,StringType,true),StructField(utc_offset,StringType,true),StructField(verified,BooleanType,true))),true))),true),StructField(quoted_status_id,LongType,true),StructField(quoted_status_id_str,StringType,true),StructField(quoted_status_permalink,StructType(List(StructField(display,StringType,true),StructField(expanded,StringType,true),StructField(url,StringType,true))),true),StructField(reply_count,LongType,true),StructField(retweet_count,LongType,true),StructField(retweeted,BooleanType,true),StructField(retweeted_status,StructType(List(StructField(contributors,StringType,true),StructField(coordinates,StringType,true),StructField(created_at,StringType,true),StructField(display_text_range,ArrayType(LongType,true),true),StructField(entities,StructType(List(StructField(hashtags,ArrayType(StructType(List(StructField(indices,ArrayType(LongType,true),true),StructField(text,StringType,true))),true),true),StructField(media,ArrayType(StructType(List(StructField(additional_media_info,StructType(List(StructField(monetizable,BooleanType,true))),true),StructField(display_url,StringType,true),StructField(expanded_url,StringType,true),StructField(id,LongType,true),StructField(id_str,StringType,true),StructField(indices,ArrayType(LongType,true),true),StructField(media_url,StringType,true),StructField(media_url_https,StringType,true),StructField(sizes,StructType(List(StructField(large,StructType(List(StructField(h,LongType,true),StructField(resize,StringType,true),StructField(w,LongType,true))),true),StructField(medium,StructType(List(StructField(h,LongType,true),StructField(resize,StringType,true),StructField(w,LongType,true))),true),StructField(small,StructType(List(StructField(h,LongType,true),StructField(resize,StringType,true),StructField(w,LongType,true))),true),StructField(thumb,StructType(List(StructField(h,LongType,true),StructField(resize,StringType,true),StructField(w,LongType,true))),true))),true),StructField(source_status_id,LongType,true),StructField(source_status_id_str,StringType,true),StructField(source_user_id,LongType,true),StructField(source_user_id_str,StringType,true),StructField(type,StringType,true),StructField(url,StringType,true))),true),true),StructField(symbols,ArrayType(StringType,true),true),StructField(urls,ArrayType(StructType(List(StructField(display_url,StringType,true),StructField(expanded_url,StringType,true),StructField(indices,ArrayType(LongType,true),true),StructField(url,StringType,true))),true),true),StructField(user_mentions,ArrayType(StructType(List(StructField(id,LongType,true),StructField(id_str,StringType,true),StructField(indices,ArrayType(LongType,true),true),StructField(name,StringType,true),StructField(screen_name,StringType,true))),true),true))),true),StructField(extended_entities,StructType(List(StructField(media,ArrayType(StructType(List(StructField(additional_media_info,StructType(List(StructField(monetizable,BooleanType,true))),true),StructField(display_url,StringType,true),StructField(expanded_url,StringType,true),StructField(id,LongType,true),StructField(id_str,StringType,true),StructField(indices,ArrayType(LongType,true),true),StructField(media_url,StringType,true),StructField(media_url_https,StringType,true),StructField(sizes,StructType(List(StructField(large,StructType(List(StructField(h,LongType,true),StructField(resize,StringType,true),StructField(w,LongType,true))),true),StructField(medium,StructType(List(StructField(h,LongType,true),StructField(resize,StringType,true),StructField(w,LongType,true))),true),StructField(small,StructType(List(StructField(h,LongType,true),StructField(resize,StringType,true),StructField(w,LongType,true))),true),StructField(thumb,StructType(List(StructField(h,LongType,true),StructField(resize,StringType,true),StructField(w,LongType,true))),true))),true),StructField(source_status_id,LongType,true),StructField(source_status_id_str,StringType,true),StructField(source_user_id,LongType,true),StructField(source_user_id_str,StringType,true),StructField(type,StringType,true),StructField(url,StringType,true),StructField(video_info,StructType(List(StructField(aspect_ratio,ArrayType(LongType,true),true),StructField(duration_millis,LongType,true),StructField(variants,ArrayType(StructType(List(StructField(bitrate,LongType,true),StructField(content_type,StringType,true),StructField(url,StringType,true))),true),true))),true))),true),true))),true),StructField(extended_tweet,StructType(List(StructField(display_text_range,ArrayType(LongType,true),true),StructField(entities,StructType(List(StructField(hashtags,ArrayType(StructType(List(StructField(indices,ArrayType(LongType,true),true),StructField(text,StringType,true))),true),true),StructField(media,ArrayType(StructType(List(StructField(additional_media_info,StructType(List(StructField(description,StringType,true),StructField(embeddable,BooleanType,true),StructField(monetizable,BooleanType,true),StructField(title,StringType,true))),true),StructField(display_url,StringType,true),StructField(expanded_url,StringType,true),StructField(id,LongType,true),StructField(id_str,StringType,true),StructField(indices,ArrayType(LongType,true),true),StructField(media_url,StringType,true),StructField(media_url_https,StringType,true),StructField(sizes,StructType(List(StructField(large,StructType(List(StructField(h,LongType,true),StructField(resize,StringType,true),StructField(w,LongType,true))),true),StructField(medium,StructType(List(StructField(h,LongType,true),StructField(resize,StringType,true),StructField(w,LongType,true))),true),StructField(small,StructType(List(StructField(h,LongType,true),StructField(resize,StringType,true),StructField(w,LongType,true))),true),StructField(thumb,StructType(List(StructField(h,LongType,true),StructField(resize,StringType,true),StructField(w,LongType,true))),true))),true),StructField(source_status_id,LongType,true),StructField(source_status_id_str,StringType,true),StructField(source_user_id,LongType,true),StructField(source_user_id_str,StringType,true),StructField(type,StringType,true),StructField(url,StringType,true),StructField(video_info,StructType(List(StructField(aspect_ratio,ArrayType(LongType,true),true),StructField(duration_millis,LongType,true),StructField(variants,ArrayType(StructType(List(StructField(bitrate,LongType,true),StructField(content_type,StringType,true),StructField(url,StringType,true))),true),true))),true))),true),true),StructField(symbols,ArrayType(StringType,true),true),StructField(urls,ArrayType(StructType(List(StructField(display_url,StringType,true),StructField(expanded_url,StringType,true),StructField(indices,ArrayType(LongType,true),true),StructField(url,StringType,true))),true),true),StructField(user_mentions,ArrayType(StructType(List(StructField(id,LongType,true),StructField(id_str,StringType,true),StructField(indices,ArrayType(LongType,true),true),StructField(name,StringType,true),StructField(screen_name,StringType,true))),true),true))),true),StructField(extended_entities,StructType(List(StructField(media,ArrayType(StructType(List(StructField(additional_media_info,StructType(List(StructField(description,StringType,true),StructField(embeddable,BooleanType,true),StructField(monetizable,BooleanType,true),StructField(title,StringType,true))),true),StructField(display_url,StringType,true),StructField(expanded_url,StringType,true),StructField(id,LongType,true),StructField(id_str,StringType,true),StructField(indices,ArrayType(LongType,true),true),StructField(media_url,StringType,true),StructField(media_url_https,StringType,true),StructField(sizes,StructType(List(StructField(large,StructType(List(StructField(h,LongType,true),StructField(resize,StringType,true),StructField(w,LongType,true))),true),StructField(medium,StructType(List(StructField(h,LongType,true),StructField(resize,StringType,true),StructField(w,LongType,true))),true),StructField(small,StructType(List(StructField(h,LongType,true),StructField(resize,StringType,true),StructField(w,LongType,true))),true),StructField(thumb,StructType(List(StructField(h,LongType,true),StructField(resize,StringType,true),StructField(w,LongType,true))),true))),true),StructField(source_status_id,LongType,true),StructField(source_status_id_str,StringType,true),StructField(source_user_id,LongType,true),StructField(source_user_id_str,StringType,true),StructField(type,StringType,true),StructField(url,StringType,true),StructField(video_info,StructType(List(StructField(aspect_ratio,ArrayType(LongType,true),true),StructField(duration_millis,LongType,true),StructField(variants,ArrayType(StructType(List(StructField(bitrate,LongType,true),StructField(content_type,StringType,true),StructField(url,StringType,true))),true),true))),true))),true),true))),true),StructField(full_text,StringType,true))),true),StructField(favorite_count,LongType,true),StructField(favorited,BooleanType,true),StructField(filter_level,StringType,true),StructField(geo,StringType,true),StructField(id,LongType,true),StructField(id_str,StringType,true),StructField(in_reply_to_screen_name,StringType,true),StructField(in_reply_to_status_id,LongType,true),StructField(in_reply_to_status_id_str,StringType,true),StructField(in_reply_to_user_id,LongType,true),StructField(in_reply_to_user_id_str,StringType,true),StructField(is_quote_status,BooleanType,true),StructField(lang,StringType,true),StructField(place,StructType(List(StructField(bounding_box,StructType(List(StructField(coordinates,ArrayType(ArrayType(ArrayType(DoubleType,true),true),true),true),StructField(type,StringType,true))),true),StructField(country,StringType,true),StructField(country_code,StringType,true),StructField(full_name,StringType,true),StructField(id,StringType,true),StructField(name,StringType,true),StructField(place_type,StringType,true),StructField(url,StringType,true))),true),StructField(possibly_sensitive,BooleanType,true),StructField(quote_count,LongType,true),StructField(quoted_status,StructType(List(StructField(contributors,StringType,true),StructField(coordinates,StringType,true),StructField(created_at,StringType,true),StructField(display_text_range,ArrayType(LongType,true),true),StructField(entities,StructType(List(StructField(hashtags,ArrayType(StructType(List(StructField(indices,ArrayType(LongType,true),true),StructField(text,StringType,true))),true),true),StructField(media,ArrayType(StructType(List(StructField(additional_media_info,StructType(List(StructField(monetizable,BooleanType,true))),true),StructField(display_url,StringType,true),StructField(expanded_url,StringType,true),StructField(id,LongType,true),StructField(id_str,StringType,true),StructField(indices,ArrayType(LongType,true),true),StructField(media_url,StringType,true),StructField(media_url_https,StringType,true),StructField(sizes,StructType(List(StructField(large,StructType(List(StructField(h,LongType,true),StructField(resize,StringType,true),StructField(w,LongType,true))),true),StructField(medium,StructType(List(StructField(h,LongType,true),StructField(resize,StringType,true),StructField(w,LongType,true))),true),StructField(small,StructType(List(StructField(h,LongType,true),StructField(resize,StringType,true),StructField(w,LongType,true))),true),StructField(thumb,StructType(List(StructField(h,LongType,true),StructField(resize,StringType,true),StructField(w,LongType,true))),true))),true),StructField(source_status_id,LongType,true),StructField(source_status_id_str,StringType,true),StructField(source_user_id,LongType,true),StructField(source_user_id_str,StringType,true),StructField(type,StringType,true),StructField(url,StringType,true))),true),true),StructField(symbols,ArrayType(StringType,true),true),StructField(urls,ArrayType(StructType(List(StructField(display_url,StringType,true),StructField(expanded_url,StringType,true),StructField(indices,ArrayType(LongType,true),true),StructField(url,StringType,true))),true),true),StructField(user_mentions,ArrayType(StructType(List(StructField(id,LongType,true),StructField(id_str,StringType,true),StructField(indices,ArrayType(LongType,true),true),StructField(name,StringType,true),StructField(screen_name,StringType,true))),true),true))),true),StructField(extended_entities,StructType(List(StructField(media,ArrayType(StructType(List(StructField(additional_media_info,StructType(List(StructField(monetizable,BooleanType,true))),true),StructField(display_url,StringType,true),StructField(expanded_url,StringType,true),StructField(id,LongType,true),StructField(id_str,StringType,true),StructField(indices,ArrayType(LongType,true),true),StructField(media_url,StringType,true),StructField(media_url_https,StringType,true),StructField(sizes,StructType(List(StructField(large,StructType(List(StructField(h,LongType,true),StructField(resize,StringType,true),StructField(w,LongType,true))),true),StructField(medium,StructType(List(StructField(h,LongType,true),StructField(resize,StringType,true),StructField(w,LongType,true))),true),StructField(small,StructType(List(StructField(h,LongType,true),StructField(resize,StringType,true),StructField(w,LongType,true))),true),StructField(thumb,StructType(List(StructField(h,LongType,true),StructField(resize,StringType,true),StructField(w,LongType,true))),true))),true),StructField(source_status_id,LongType,true),StructField(source_status_id_str,StringType,true),StructField(source_user_id,LongType,true),StructField(source_user_id_str,StringType,true),StructField(type,StringType,true),StructField(url,StringType,true),StructField(video_info,StructType(List(StructField(aspect_ratio,ArrayType(LongType,true),true),StructField(duration_millis,LongType,true),StructField(variants,ArrayType(StructType(List(StructField(bitrate,LongType,true),StructField(content_type,StringType,true),StructField(url,StringType,true))),true),true))),true))),true),true))),true),StructField(extended_tweet,StructType(List(StructField(display_text_range,ArrayType(LongType,true),true),StructField(entities,StructType(List(StructField(hashtags,ArrayType(StructType(List(StructField(indices,ArrayType(LongType,true),true),StructField(text,StringType,true))),true),true),StructField(media,ArrayType(StructType(List(StructField(additional_media_info,StructType(List(StructField(description,StringType,true),StructField(embeddable,BooleanType,true),StructField(monetizable,BooleanType,true),StructField(title,StringType,true))),true),StructField(display_url,StringType,true),StructField(expanded_url,StringType,true),StructField(id,LongType,true),StructField(id_str,StringType,true),StructField(indices,ArrayType(LongType,true),true),StructField(media_url,StringType,true),StructField(media_url_https,StringType,true),StructField(sizes,StructType(List(StructField(large,StructType(List(StructField(h,LongType,true),StructField(resize,StringType,true),StructField(w,LongType,true))),true),StructField(medium,StructType(List(StructField(h,LongType,true),StructField(resize,StringType,true),StructField(w,LongType,true))),true),StructField(small,StructType(List(StructField(h,LongType,true),StructField(resize,StringType,true),StructField(w,LongType,true))),true),StructField(thumb,StructType(List(StructField(h,LongType,true),StructField(resize,StringType,true),StructField(w,LongType,true))),true))),true),StructField(type,StringType,true),StructField(url,StringType,true),StructField(video_info,StructType(List(StructField(aspect_ratio,ArrayType(LongType,true),true),StructField(duration_millis,LongType,true),StructField(variants,ArrayType(StructType(List(StructField(bitrate,LongType,true),StructField(content_type,StringType,true),StructField(url,StringType,true))),true),true))),true))),true),true),StructField(symbols,ArrayType(StringType,true),true),StructField(urls,ArrayType(StructType(List(StructField(display_url,StringType,true),StructField(expanded_url,StringType,true),StructField(indices,ArrayType(LongType,true),true),StructField(url,StringType,true))),true),true),StructField(user_mentions,ArrayType(StructType(List(StructField(id,LongType,true),StructField(id_str,StringType,true),StructField(indices,ArrayType(LongType,true),true),StructField(name,StringType,true),StructField(screen_name,StringType,true))),true),true))),true),StructField(extended_entities,StructType(List(StructField(media,ArrayType(StructType(List(StructField(additional_media_info,StructType(List(StructField(description,StringType,true),StructField(embeddable,BooleanType,true),StructField(monetizable,BooleanType,true),StructField(title,StringType,true))),true),StructField(display_url,StringType,true),StructField(expanded_url,StringType,true),StructField(id,LongType,true),StructField(id_str,StringType,true),StructField(indices,ArrayType(LongType,true),true),StructField(media_url,StringType,true),StructField(media_url_https,StringType,true),StructField(sizes,StructType(List(StructField(large,StructType(List(StructField(h,LongType,true),StructField(resize,StringType,true),StructField(w,LongType,true))),true),StructField(medium,StructType(List(StructField(h,LongType,true),StructField(resize,StringType,true),StructField(w,LongType,true))),true),StructField(small,StructType(List(StructField(h,LongType,true),StructField(resize,StringType,true),StructField(w,LongType,true))),true),StructField(thumb,StructType(List(StructField(h,LongType,true),StructField(resize,StringType,true),StructField(w,LongType,true))),true))),true),StructField(type,StringType,true),StructField(url,StringType,true),StructField(video_info,StructType(List(StructField(aspect_ratio,ArrayType(LongType,true),true),StructField(duration_millis,LongType,true),StructField(variants,ArrayType(StructType(List(StructField(bitrate,LongType,true),StructField(content_type,StringType,true),StructField(url,StringType,true))),true),true))),true))),true),true))),true),StructField(full_text,StringType,true))),true),StructField(favorite_count,LongType,true),StructField(favorited,BooleanType,true),StructField(filter_level,StringType,true),StructField(geo,StringType,true),StructField(id,LongType,true),StructField(id_str,StringType,true),StructField(in_reply_to_screen_name,StringType,true),StructField(in_reply_to_status_id,LongType,true),StructField(in_reply_to_status_id_str,StringType,true),StructField(in_reply_to_user_id,LongType,true),StructField(in_reply_to_user_id_str,StringType,true),StructField(is_quote_status,BooleanType,true),StructField(lang,StringType,true),StructField(place,StructType(List(StructField(bounding_box,StructType(List(StructField(coordinates,ArrayType(ArrayType(ArrayType(DoubleType,true),true),true),true),StructField(type,StringType,true))),true),StructField(country,StringType,true),StructField(country_code,StringType,true),StructField(full_name,StringType,true),StructField(id,StringType,true),StructField(name,StringType,true),StructField(place_type,StringType,true),StructField(url,StringType,true))),true),StructField(possibly_sensitive,BooleanType,true),StructField(quote_count,LongType,true),StructField(reply_count,LongType,true),StructField(retweet_count,LongType,true),StructField(retweeted,BooleanType,true),StructField(source,StringType,true),StructField(text,StringType,true),StructField(truncated,BooleanType,true),StructField(user,StructType(List(StructField(contributors_enabled,BooleanType,true),StructField(created_at,StringType,true),StructField(default_profile,BooleanType,true),StructField(default_profile_image,BooleanType,true),StructField(description,StringType,true),StructField(favourites_count,LongType,true),StructField(follow_request_sent,StringType,true),StructField(followers_count,LongType,true),StructField(following,StringType,true),StructField(friends_count,LongType,true),StructField(geo_enabled,BooleanType,true),StructField(id,LongType,true),StructField(id_str,StringType,true),StructField(is_translator,BooleanType,true),StructField(lang,StringType,true),StructField(listed_count,LongType,true),StructField(location,StringType,true),StructField(name,StringType,true),StructField(notifications,StringType,true),StructField(profile_background_color,StringType,true),StructField(profile_background_image_url,StringType,true),StructField(profile_background_image_url_https,StringType,true),StructField(profile_background_tile,BooleanType,true),StructField(profile_banner_url,StringType,true),StructField(profile_image_url,StringType,true),StructField(profile_image_url_https,StringType,true),StructField(profile_link_color,StringType,true),StructField(profile_sidebar_border_color,StringType,true),StructField(profile_sidebar_fill_color,StringType,true),StructField(profile_text_color,StringType,true),StructField(profile_use_background_image,BooleanType,true),StructField(protected,BooleanType,true),StructField(screen_name,StringType,true),StructField(statuses_count,LongType,true),StructField(time_zone,StringType,true),StructField(translator_type,StringType,true),StructField(url,StringType,true),StructField(utc_offset,StringType,true),StructField(verified,BooleanType,true))),true))),true),StructField(quoted_status_id,LongType,true),StructField(quoted_status_id_str,StringType,true),StructField(quoted_status_permalink,StructType(List(StructField(display,StringType,true),StructField(expanded,StringType,true),StructField(url,StringType,true))),true),StructField(reply_count,LongType,true),StructField(retweet_count,LongType,true),StructField(retweeted,BooleanType,true),StructField(source,StringType,true),StructField(text,StringType,true),StructField(truncated,BooleanType,true),StructField(user,StructType(List(StructField(contributors_enabled,BooleanType,true),StructField(created_at,StringType,true),StructField(default_profile,BooleanType,true),StructField(default_profile_image,BooleanType,true),StructField(description,StringType,true),StructField(favourites_count,LongType,true),StructField(follow_request_sent,StringType,true),StructField(followers_count,LongType,true),StructField(following,StringType,true),StructField(friends_count,LongType,true),StructField(geo_enabled,BooleanType,true),StructField(id,LongType,true),StructField(id_str,StringType,true),StructField(is_translator,BooleanType,true),StructField(lang,StringType,true),StructField(listed_count,LongType,true),StructField(location,StringType,true),StructField(name,StringType,true),StructField(notifications,StringType,true),StructField(profile_background_color,StringType,true),StructField(profile_background_image_url,StringType,true),StructField(profile_background_image_url_https,StringType,true),StructField(profile_background_tile,BooleanType,true),StructField(profile_banner_url,StringType,true),StructField(profile_image_url,StringType,true),StructField(profile_image_url_https,StringType,true),StructField(profile_link_color,StringType,true),StructField(profile_sidebar_border_color,StringType,true),StructField(profile_sidebar_fill_color,StringType,true),StructField(profile_text_color,StringType,true),StructField(profile_use_background_image,BooleanType,true),StructField(protected,BooleanType,true),StructField(screen_name,StringType,true),StructField(statuses_count,LongType,true),StructField(time_zone,StringType,true),StructField(translator_type,StringType,true),StructField(url,StringType,true),StructField(utc_offset,StringType,true),StructField(verified,BooleanType,true))),true))),true),StructField(source,StringType,true),StructField(text,StringType,true),StructField(timestamp_ms,StringType,true),StructField(truncated,BooleanType,true),StructField(user,StructType(List(StructField(contributors_enabled,BooleanType,true),StructField(created_at,StringType,true),StructField(default_profile,BooleanType,true),StructField(default_profile_image,BooleanType,true),StructField(description,StringType,true),StructField(favourites_count,LongType,true),StructField(follow_request_sent,StringType,true),StructField(followers_count,LongType,true),StructField(following,StringType,true),StructField(friends_count,LongType,true),StructField(geo_enabled,BooleanType,true),StructField(id,LongType,true),StructField(id_str,StringType,true),StructField(is_translator,BooleanType,true),StructField(lang,StringType,true),StructField(listed_count,LongType,true),StructField(location,StringType,true),StructField(name,StringType,true),StructField(notifications,StringType,true),StructField(profile_background_color,StringType,true),StructField(profile_background_image_url,StringType,true),StructField(profile_background_image_url_https,StringType,true),StructField(profile_background_tile,BooleanType,true),StructField(profile_banner_url,StringType,true),StructField(profile_image_url,StringType,true),StructField(profile_image_url_https,StringType,true),StructField(profile_link_color,StringType,true),StructField(profile_sidebar_border_color,StringType,true),StructField(profile_sidebar_fill_color,StringType,true),StructField(profile_text_color,StringType,true),StructField(profile_use_background_image,BooleanType,true),StructField(protected,BooleanType,true),StructField(screen_name,StringType,true),StructField(statuses_count,LongType,true),StructField(time_zone,StringType,true),StructField(translator_type,StringType,true),StructField(url,StringType,true),StructField(utc_offset,StringType,true),StructField(verified,BooleanType,true))),true))),true)))"
      ]
     },
     "execution_count": 17,
     "metadata": {},
     "output_type": "execute_result"
    }
   ],
   "source": [
    "ddf = parseJSONCols(df, 'tweets', sanitize=True)\n",
    "ddf.printSchema()"
   ]
  },
  {
   "cell_type": "code",
   "execution_count": 19,
   "metadata": {},
   "outputs": [
    {
     "data": {
      "text/plain": [
       "True"
      ]
     },
     "execution_count": 19,
     "metadata": {},
     "output_type": "execute_result"
    }
   ],
   "source": [
    "tweets.isActive"
   ]
  },
  {
   "cell_type": "code",
   "execution_count": 20,
   "metadata": {},
   "outputs": [
    {
     "name": "stdout",
     "output_type": "stream",
     "text": [
      "+--------------------+\n",
      "|              tweets|\n",
      "+--------------------+\n",
      "|[,, Mon Jun 01 14...|\n",
      "|[,, Mon Jun 01 14...|\n",
      "|[,, Mon Jun 01 14...|\n",
      "|[,, Mon Jun 01 14...|\n",
      "|[,, Mon Jun 01 14...|\n",
      "|[,, Mon Jun 01 14...|\n",
      "|[,, Mon Jun 01 14...|\n",
      "|[,, Mon Jun 01 14...|\n",
      "|[,, Mon Jun 01 14...|\n",
      "|[,, Mon Jun 01 14...|\n",
      "|[,, Mon Jun 01 14...|\n",
      "|[,, Mon Jun 01 14...|\n",
      "|[,, Mon Jun 01 14...|\n",
      "|[,, Mon Jun 01 14...|\n",
      "|[,, Mon Jun 01 14...|\n",
      "|[,, Mon Jun 01 14...|\n",
      "|[,, Mon Jun 01 14...|\n",
      "|[,, Mon Jun 01 14...|\n",
      "|[,, Mon Jun 01 14...|\n",
      "|[,, Mon Jun 01 14...|\n",
      "+--------------------+\n",
      "only showing top 20 rows\n",
      "\n"
     ]
    }
   ],
   "source": [
    "ddf.show()"
   ]
  },
  {
   "cell_type": "code",
   "execution_count": 77,
   "metadata": {},
   "outputs": [
    {
     "name": "stdout",
     "output_type": "stream",
     "text": [
      "+------------------------------+-----------+---------------+\n",
      "|created_at                    |coordinates|followers_count|\n",
      "+------------------------------+-----------+---------------+\n",
      "|Mon Jun 01 14:57:24 +0000 2020|null       |2293           |\n",
      "|Mon Jun 01 14:57:24 +0000 2020|null       |37             |\n",
      "|Mon Jun 01 14:57:24 +0000 2020|null       |1257           |\n",
      "|Mon Jun 01 14:57:25 +0000 2020|null       |61             |\n",
      "|Mon Jun 01 14:57:25 +0000 2020|null       |53             |\n",
      "|Mon Jun 01 14:57:25 +0000 2020|null       |14             |\n",
      "|Mon Jun 01 14:57:25 +0000 2020|null       |110            |\n",
      "|Mon Jun 01 14:57:25 +0000 2020|null       |78             |\n",
      "|Mon Jun 01 14:57:25 +0000 2020|null       |80             |\n",
      "|Mon Jun 01 14:57:26 +0000 2020|null       |318            |\n",
      "|Mon Jun 01 14:57:26 +0000 2020|null       |25             |\n",
      "|Mon Jun 01 14:57:27 +0000 2020|null       |28             |\n",
      "|Mon Jun 01 14:57:27 +0000 2020|null       |1249           |\n",
      "|Mon Jun 01 14:57:27 +0000 2020|null       |285            |\n",
      "|Mon Jun 01 14:57:27 +0000 2020|null       |15             |\n",
      "|Mon Jun 01 14:57:27 +0000 2020|null       |927            |\n",
      "|Mon Jun 01 14:57:28 +0000 2020|null       |140            |\n",
      "|Mon Jun 01 14:57:28 +0000 2020|null       |62             |\n",
      "|Mon Jun 01 14:57:28 +0000 2020|null       |116            |\n",
      "|Mon Jun 01 14:57:28 +0000 2020|null       |309            |\n",
      "+------------------------------+-----------+---------------+\n",
      "only showing top 20 rows\n",
      "\n"
     ]
    }
   ],
   "source": [
    "ddf.select(\"tweets.created_at\", \"tweets.coordinates.coordinates\", \"tweets.user.followers_count\").show(truncate=False)"
   ]
  },
  {
   "cell_type": "code",
   "execution_count": 78,
   "metadata": {},
   "outputs": [
    {
     "name": "stdout",
     "output_type": "stream",
     "text": [
      "+------------------------------+-----------+---------------+--------------------------------------------------------------------------------------------------------------------------------------------+\n",
      "|created_at                    |coordinates|followers_count|text                                                                                                                                        |\n",
      "+------------------------------+-----------+---------------+--------------------------------------------------------------------------------------------------------------------------------------------+\n",
      "|Mon Jun 01 14:57:24 +0000 2020|null       |2293           |null                                                                                                                                        |\n",
      "|Mon Jun 01 14:57:24 +0000 2020|null       |37             |null                                                                                                                                        |\n",
      "|Mon Jun 01 14:57:24 +0000 2020|null       |1257           |@hinaparvezbutt That imran khan has acted with complete honesty not corrupt like you people you have drowned the wh… https://t.co/EF9t030TEA|\n",
      "|Mon Jun 01 14:57:25 +0000 2020|null       |61             |null                                                                                                                                        |\n",
      "|Mon Jun 01 14:57:25 +0000 2020|null       |53             |null                                                                                                                                        |\n",
      "|Mon Jun 01 14:57:25 +0000 2020|null       |14             |null                                                                                                                                        |\n",
      "|Mon Jun 01 14:57:25 +0000 2020|null       |110            |null                                                                                                                                        |\n",
      "|Mon Jun 01 14:57:25 +0000 2020|null       |78             |null                                                                                                                                        |\n",
      "|Mon Jun 01 14:57:25 +0000 2020|null       |80             |null                                                                                                                                        |\n",
      "|Mon Jun 01 14:57:26 +0000 2020|null       |318            |null                                                                                                                                        |\n",
      "|Mon Jun 01 14:57:26 +0000 2020|null       |25             |null                                                                                                                                        |\n",
      "|Mon Jun 01 14:57:27 +0000 2020|null       |28             |null                                                                                                                                        |\n",
      "|Mon Jun 01 14:57:27 +0000 2020|null       |1249           |Protesters march on U.S. embassy in London as demonstrations break out across the world following death of George F… https://t.co/I3ff0TewIF|\n",
      "|Mon Jun 01 14:57:27 +0000 2020|null       |285            |London shows its support for George Floyd as the #BlackLivesMatter protests continue.⁣⁣\n",
      "\n",
      " https://t.co/RhfI8fRTJC                           |\n",
      "|Mon Jun 01 14:57:27 +0000 2020|null       |15             |London shows its support for George Floyd as the #BlackLivesMatter protests continue.⁣⁣\n",
      "\n",
      " https://t.co/RhfI8fRTJC                           |\n",
      "|Mon Jun 01 14:57:27 +0000 2020|null       |927            |null                                                                                                                                        |\n",
      "|Mon Jun 01 14:57:28 +0000 2020|null       |140            |null                                                                                                                                        |\n",
      "|Mon Jun 01 14:57:28 +0000 2020|null       |62             |London shows its support for George Floyd as the #BlackLivesMatter protests continue.⁣⁣\n",
      "\n",
      " https://t.co/RhfI8fRTJC                           |\n",
      "|Mon Jun 01 14:57:28 +0000 2020|null       |116            |null                                                                                                                                        |\n",
      "|Mon Jun 01 14:57:28 +0000 2020|null       |309            |null                                                                                                                                        |\n",
      "+------------------------------+-----------+---------------+--------------------------------------------------------------------------------------------------------------------------------------------+\n",
      "only showing top 20 rows\n",
      "\n"
     ]
    }
   ],
   "source": [
    "ddf.select(\"tweets.created_at\", \"tweets.coordinates.coordinates\", \"tweets.user.followers_count\", \"tweets.quoted_status.text\").show(truncate=False)"
   ]
  },
  {
   "cell_type": "code",
   "execution_count": 45,
   "metadata": {},
   "outputs": [
    {
     "data": {
      "text/plain": [
       "3714"
      ]
     },
     "execution_count": 45,
     "metadata": {},
     "output_type": "execute_result"
    }
   ],
   "source": [
    "ddf.count()"
   ]
  },
  {
   "cell_type": "code",
   "execution_count": 68,
   "metadata": {},
   "outputs": [
    {
     "name": "stdout",
     "output_type": "stream",
     "text": [
      "+------------------------------+---------------------------+---------------+-----------------------------------------------------------------------------------------------------------------------------------------------------------------------------------------------------------------------------------------------------+\n",
      "|created_at                    |coordinates                |followers_count|full_text                                                                                                                                                                                                                                            |\n",
      "+------------------------------+---------------------------+---------------+-----------------------------------------------------------------------------------------------------------------------------------------------------------------------------------------------------------------------------------------------------+\n",
      "|Mon Jun 01 14:57:56 +0000 2020|[-0.24084, 51.4564]        |411            |null                                                                                                                                                                                                                                                 |\n",
      "|Mon Jun 01 15:03:21 +0000 2020|[-0.10865434, 51.49641341] |3              |null                                                                                                                                                                                                                                                 |\n",
      "|Mon Jun 01 15:03:41 +0000 2020|[-0.1094, 51.5141]         |880            |Nuevue Cases with  “active technology” just got better - proven Coronavirus protection. The must-have cases for 2020.\n",
      "\n",
      "https://t.co/0XEGRSWy73 @ London, United Kingdom https://t.co/ZE0W9HhZZA                                                      |\n",
      "|Mon Jun 01 15:03:57 +0000 2020|[-0.1094, 51.5141]         |1012           |We say no to hatred. \n",
      "The time for change is now. 🖤\n",
      "\n",
      "#RIPGeorgeFloyd #NoToRacism #BlackLivesMatter #enoughisenough #justiceforgeorgefloyd #Allyship                                            \n",
      "\n",
      "🖤 @ London, United Kingdom https://t.co/T4tf4nRnEj|\n",
      "|Mon Jun 01 15:03:58 +0000 2020|[-0.08751512, 51.50819489] |3              |null                                                                                                                                                                                                                                                 |\n",
      "|Mon Jun 01 15:04:33 +0000 2020|[-0.2924888, 51.47923373]  |3              |null                                                                                                                                                                                                                                                 |\n",
      "|Mon Jun 01 15:05:07 +0000 2020|[-0.22166667, 51.475]      |3              |🅵🆄🅻🅷🅰🅼 - 🅲🅷🅰🆁🅻🆃🅾🅽 🅾🅲🆃🅾🅱🅴🆁 2019 #fulhamfc #soccer #cravencottage #stadium #championship #visitlondon #london @ Craven Cottage https://t.co/J7L3OAgM8K                                                                            |\n",
      "|Mon Jun 01 15:05:40 +0000 2020|[-0.09838343, 51.51014807] |3              |🆂🅺🆈🆂🅲🆁🅰🅿🅴🆁🆂 🅵🆁🅾🅼 🅼🅸🅻🅻🅴🅽🅽🅸🆄🅼 🅱🆁🅸🅳🅶🅴 #milleniumbridge #thamesriver #skyskrapers #skyline #visitlondon #london @ Millennium Bridge, London https://t.co/wxOlset6Is                                                       |\n",
      "|Mon Jun 01 15:07:34 +0000 2020|[-0.09301, 51.4741]        |411            |null                                                                                                                                                                                                                                                 |\n",
      "|Mon Jun 01 15:08:55 +0000 2020|[-0.24084, 51.4564]        |411            |null                                                                                                                                                                                                                                                 |\n",
      "|Mon Jun 01 15:09:27 +0000 2020|[-0.19756, 51.36119]       |404            |Make the most of Monday evening with a delicious Indian Takeaway. Place your online order : https://t.co/xAkSanoxxC or call 02087700149. We are taking orders from 5pm. #sutton #cheam #belmont #banstead @ Sutton, London https://t.co/eoflJ5o9mF   |\n",
      "|Mon Jun 01 15:10:07 +0000 2020|[-0.24084, 51.4564]        |411            |null                                                                                                                                                                                                                                                 |\n",
      "|Mon Jun 01 15:10:07 +0000 2020|[-0.003267, 51.562681]     |411            |null                                                                                                                                                                                                                                                 |\n",
      "|Mon Jun 01 15:10:20 +0000 2020|[-0.003267, 51.562681]     |411            |null                                                                                                                                                                                                                                                 |\n",
      "|Mon Jun 01 15:10:40 +0000 2020|[-0.003267, 51.562681]     |411            |null                                                                                                                                                                                                                                                 |\n",
      "|Mon Jun 01 15:10:40 +0000 2020|[-84.08339233, 37.09280877]|253            |null                                                                                                                                                                                                                                                 |\n",
      "|Mon Jun 01 15:11:03 +0000 2020|[-0.24084, 51.4564]        |411            |null                                                                                                                                                                                                                                                 |\n",
      "|Mon Jun 01 15:11:35 +0000 2020|[-0.15439, 51.4548]        |411            |null                                                                                                                                                                                                                                                 |\n",
      "|Mon Jun 01 15:11:35 +0000 2020|[-0.34247548, 51.45603173] |9498           |#FindBird has white boots! #MarkingsMonday\n",
      "\n",
      "#LOST Ginger and White Cat – TW9, Richmond #Surrey #UK \n",
      "https://t.co/8WWuO4eZhr\n",
      ".\n",
      "#LostCat #London #Cats #CatsOfLondon #CatsOfEngland #MISSING #LostCats #MissingCat… https://t.co/4v3XGkDgFu            |\n",
      "|Mon Jun 01 15:11:50 +0000 2020|[-3.68333, 40.4]           |5665           |#bellamontiell #transgender   #trans #beauty #queen #amazing #usa   #madrid #quedateencasa  \n",
      "#ladiosa #goddessbella #usa #texas #dubai #london #barcelona #miami #atlanta #losangeles #Milán #Paris #Greece @… https://t.co/HDyY3PjwNf               |\n",
      "+------------------------------+---------------------------+---------------+-----------------------------------------------------------------------------------------------------------------------------------------------------------------------------------------------------------------------------------------------------+\n",
      "only showing top 20 rows\n",
      "\n"
     ]
    }
   ],
   "source": [
    "ddf.select(\"tweets.created_at\", \"tweets.coordinates.coordinates\", \"tweets.user.followers_count\", \"tweets.extended_tweet.full_text\") \\\n",
    "                .where(col(\"tweets.coordinates\").isNotNull()) \\\n",
    "                .show(truncate=False)"
   ]
  },
  {
   "cell_type": "markdown",
   "metadata": {},
   "source": [
    "## Setup `pandasUDF`"
   ]
  },
  {
   "cell_type": "code",
   "execution_count": 85,
   "metadata": {},
   "outputs": [],
   "source": [
    "import pandas as pd\n",
    "from pyspark.sql.functions import col, pandas_udf\n",
    "from pyspark.sql.types import *\n",
    "\n",
    "# Declare the function and create the UDF\n",
    "def multiply_func(a):\n",
    "    return a * 2\n",
    "\n",
    "multiply = pandas_udf(multiply_func, returnType=LongType())\n",
    "\n",
    "@pandas_udf(ArrayType(FloatType()))\n",
    "def lat(v):\n",
    "    return v.apply(lambda x: x[1:])\n",
    "\n",
    "@pandas_udf(ArrayType(FloatType()))\n",
    "def long(v):\n",
    "    return v.apply(lambda x: x[:1])"
   ]
  },
  {
   "cell_type": "code",
   "execution_count": 83,
   "metadata": {},
   "outputs": [],
   "source": [
    "dd = ddf.select(\"tweets.created_at\", \"tweets.coordinates.coordinates\",  \n",
    "                \"tweets.user.followers_count\", \"tweets.extended_tweet.full_text\") \\\n",
    "                .where(col(\"tweets.coordinates\").isNotNull()) \\\n",
    "                .where(col(\"tweets.extended_tweet.full_text\").isNotNull())"
   ]
  },
  {
   "cell_type": "code",
   "execution_count": 84,
   "metadata": {},
   "outputs": [
    {
     "name": "stdout",
     "output_type": "stream",
     "text": [
      "+--------------------+--------------------+---------------+--------------------+\n",
      "|          created_at|         coordinates|followers_count|           full_text|\n",
      "+--------------------+--------------------+---------------+--------------------+\n",
      "|Mon Jun 01 15:03:...|  [-0.1094, 51.5141]|            880|Nuevue Cases with...|\n",
      "|Mon Jun 01 15:03:...|  [-0.1094, 51.5141]|           1012|We say no to hatr...|\n",
      "|Mon Jun 01 15:05:...|[-0.22166667, 51....|              3|🅵🆄🅻🅷🅰🅼 - 🅲...|\n",
      "|Mon Jun 01 15:05:...|[-0.09838343, 51....|              3|🆂🅺🆈🆂🅲🆁🅰🅿?...|\n",
      "|Mon Jun 01 15:09:...|[-0.19756, 51.36119]|            404|Make the most of ...|\n",
      "|Mon Jun 01 15:11:...|[-0.34247548, 51....|           9498|#FindBird has whi...|\n",
      "|Mon Jun 01 15:11:...|    [-3.68333, 40.4]|           5665|#bellamontiell #t...|\n",
      "|Mon Jun 01 15:12:...|    [-3.68333, 40.4]|           5667|#bellamontiell #t...|\n",
      "|Mon Jun 01 15:13:...|    [-3.68333, 40.4]|           5667|#bellamontiell #t...|\n",
      "|Mon Jun 01 15:15:...|[-0.12840271, 51....|            588|ROGER SANCHEZ 18P...|\n",
      "|Mon Jun 01 15:16:...|  [-0.1094, 51.5141]|           1386|I took this littl...|\n",
      "+--------------------+--------------------+---------------+--------------------+\n",
      "\n"
     ]
    }
   ],
   "source": [
    "dd.show()"
   ]
  },
  {
   "cell_type": "code",
   "execution_count": 86,
   "metadata": {},
   "outputs": [
    {
     "name": "stdout",
     "output_type": "stream",
     "text": [
      "+--------------------+--------------------+---------------+--------------------+------------------------+\n",
      "|          created_at|         coordinates|followers_count|           full_text|follower_count_times_two|\n",
      "+--------------------+--------------------+---------------+--------------------+------------------------+\n",
      "|Mon Jun 01 15:03:...|  [-0.1094, 51.5141]|            880|Nuevue Cases with...|                    1760|\n",
      "|Mon Jun 01 15:03:...|  [-0.1094, 51.5141]|           1012|We say no to hatr...|                    2024|\n",
      "|Mon Jun 01 15:05:...|[-0.22166667, 51....|              3|🅵🆄🅻🅷🅰🅼 - 🅲...|                       6|\n",
      "|Mon Jun 01 15:05:...|[-0.09838343, 51....|              3|🆂🅺🆈🆂🅲🆁🅰🅿?...|                       6|\n",
      "|Mon Jun 01 15:09:...|[-0.19756, 51.36119]|            404|Make the most of ...|                     808|\n",
      "|Mon Jun 01 15:11:...|[-0.34247548, 51....|           9498|#FindBird has whi...|                   18996|\n",
      "|Mon Jun 01 15:11:...|    [-3.68333, 40.4]|           5665|#bellamontiell #t...|                   11330|\n",
      "|Mon Jun 01 15:12:...|    [-3.68333, 40.4]|           5667|#bellamontiell #t...|                   11334|\n",
      "|Mon Jun 01 15:13:...|    [-3.68333, 40.4]|           5667|#bellamontiell #t...|                   11334|\n",
      "|Mon Jun 01 15:15:...|[-0.12840271, 51....|            588|ROGER SANCHEZ 18P...|                    1176|\n",
      "|Mon Jun 01 15:16:...|  [-0.1094, 51.5141]|           1386|I took this littl...|                    2772|\n",
      "+--------------------+--------------------+---------------+--------------------+------------------------+\n",
      "\n"
     ]
    }
   ],
   "source": [
    "dd.withColumn(\"follower_count_times_two\", multiply(col(\"followers_count\"))).show()"
   ]
  },
  {
   "cell_type": "code",
   "execution_count": 87,
   "metadata": {},
   "outputs": [
    {
     "name": "stdout",
     "output_type": "stream",
     "text": [
      "+--------------------+--------------------+---------------+--------------------+-----------+-------------+\n",
      "|          created_at|         coordinates|followers_count|           full_text|   latitude|   longditude|\n",
      "+--------------------+--------------------+---------------+--------------------+-----------+-------------+\n",
      "|Mon Jun 01 15:03:...|  [-0.1094, 51.5141]|            880|Nuevue Cases with...|  [51.5141]|    [-0.1094]|\n",
      "|Mon Jun 01 15:03:...|  [-0.1094, 51.5141]|           1012|We say no to hatr...|  [51.5141]|    [-0.1094]|\n",
      "|Mon Jun 01 15:05:...|[-0.22166667, 51....|              3|🅵🆄🅻🅷🅰🅼 - 🅲...|   [51.475]|[-0.22166666]|\n",
      "|Mon Jun 01 15:05:...|[-0.09838343, 51....|              3|🆂🅺🆈🆂🅲🆁🅰🅿?...|[51.510147]|[-0.09838343]|\n",
      "|Mon Jun 01 15:09:...|[-0.19756, 51.36119]|            404|Make the most of ...| [51.36119]|   [-0.19756]|\n",
      "|Mon Jun 01 15:11:...|[-0.34247548, 51....|           9498|#FindBird has whi...| [51.45603]|[-0.34247547]|\n",
      "|Mon Jun 01 15:11:...|    [-3.68333, 40.4]|           5665|#bellamontiell #t...|     [40.4]|   [-3.68333]|\n",
      "|Mon Jun 01 15:12:...|    [-3.68333, 40.4]|           5667|#bellamontiell #t...|     [40.4]|   [-3.68333]|\n",
      "|Mon Jun 01 15:13:...|    [-3.68333, 40.4]|           5667|#bellamontiell #t...|     [40.4]|   [-3.68333]|\n",
      "|Mon Jun 01 15:15:...|[-0.12840271, 51....|            588|ROGER SANCHEZ 18P...|[51.506607]|[-0.12840271]|\n",
      "|Mon Jun 01 15:16:...|  [-0.1094, 51.5141]|           1386|I took this littl...|  [51.5141]|    [-0.1094]|\n",
      "+--------------------+--------------------+---------------+--------------------+-----------+-------------+\n",
      "\n"
     ]
    }
   ],
   "source": [
    "ldd = dd.withColumn(\"latitude\", lat(col(\"coordinates\")))\n",
    "lldd = ldd.withColumn(\"longditude\", long(col(\"coordinates\")))\n",
    "lldd.show()"
   ]
  },
  {
   "cell_type": "code",
   "execution_count": 88,
   "metadata": {},
   "outputs": [
    {
     "data": {
      "text/plain": [
       "11"
      ]
     },
     "execution_count": 88,
     "metadata": {},
     "output_type": "execute_result"
    }
   ],
   "source": [
    "lldd.count()"
   ]
  },
  {
   "cell_type": "markdown",
   "metadata": {},
   "source": [
    "# Convert to pandas for plotly"
   ]
  },
  {
   "cell_type": "code",
   "execution_count": 89,
   "metadata": {},
   "outputs": [],
   "source": [
    "lldd_pdf = lldd.toPandas()"
   ]
  },
  {
   "cell_type": "code",
   "execution_count": 90,
   "metadata": {},
   "outputs": [
    {
     "data": {
      "text/plain": [
       "51.51409912109375"
      ]
     },
     "execution_count": 90,
     "metadata": {},
     "output_type": "execute_result"
    }
   ],
   "source": [
    "lldd_pdf['latitude'].tolist()[0].item()"
   ]
  },
  {
   "cell_type": "code",
   "execution_count": 91,
   "metadata": {},
   "outputs": [],
   "source": [
    "import numpy as np"
   ]
  },
  {
   "cell_type": "code",
   "execution_count": 92,
   "metadata": {},
   "outputs": [],
   "source": [
    "lati_series = lldd_pdf['latitude'].transform(lambda x: x.item())"
   ]
  },
  {
   "cell_type": "code",
   "execution_count": 93,
   "metadata": {},
   "outputs": [],
   "source": [
    "longd_series = lldd_pdf['longditude'].transform(lambda x: x.item())"
   ]
  },
  {
   "cell_type": "code",
   "execution_count": 94,
   "metadata": {},
   "outputs": [],
   "source": [
    "lldd_pdf['llat'] = lldd_pdf['latitude'].transform(lambda x: x.item())"
   ]
  },
  {
   "cell_type": "code",
   "execution_count": 95,
   "metadata": {},
   "outputs": [],
   "source": [
    "lldd_pdf['llong'] = lldd_pdf['longditude'].transform(lambda x: x.item())"
   ]
  },
  {
   "cell_type": "code",
   "execution_count": 96,
   "metadata": {},
   "outputs": [
    {
     "data": {
      "text/html": [
       "<div>\n",
       "<style scoped>\n",
       "    .dataframe tbody tr th:only-of-type {\n",
       "        vertical-align: middle;\n",
       "    }\n",
       "\n",
       "    .dataframe tbody tr th {\n",
       "        vertical-align: top;\n",
       "    }\n",
       "\n",
       "    .dataframe thead th {\n",
       "        text-align: right;\n",
       "    }\n",
       "</style>\n",
       "<table border=\"1\" class=\"dataframe\">\n",
       "  <thead>\n",
       "    <tr style=\"text-align: right;\">\n",
       "      <th></th>\n",
       "      <th>created_at</th>\n",
       "      <th>coordinates</th>\n",
       "      <th>followers_count</th>\n",
       "      <th>full_text</th>\n",
       "      <th>latitude</th>\n",
       "      <th>longditude</th>\n",
       "      <th>llat</th>\n",
       "      <th>llong</th>\n",
       "    </tr>\n",
       "  </thead>\n",
       "  <tbody>\n",
       "    <tr>\n",
       "      <th>0</th>\n",
       "      <td>Mon Jun 01 15:03:41 +0000 2020</td>\n",
       "      <td>[-0.1094, 51.5141]</td>\n",
       "      <td>880</td>\n",
       "      <td>Nuevue Cases with  “active technology” just go...</td>\n",
       "      <td>[51.5141]</td>\n",
       "      <td>[-0.1094]</td>\n",
       "      <td>51.514099</td>\n",
       "      <td>-0.109400</td>\n",
       "    </tr>\n",
       "    <tr>\n",
       "      <th>1</th>\n",
       "      <td>Mon Jun 01 15:03:57 +0000 2020</td>\n",
       "      <td>[-0.1094, 51.5141]</td>\n",
       "      <td>1012</td>\n",
       "      <td>We say no to hatred. \\nThe time for change is ...</td>\n",
       "      <td>[51.5141]</td>\n",
       "      <td>[-0.1094]</td>\n",
       "      <td>51.514099</td>\n",
       "      <td>-0.109400</td>\n",
       "    </tr>\n",
       "    <tr>\n",
       "      <th>2</th>\n",
       "      <td>Mon Jun 01 15:05:07 +0000 2020</td>\n",
       "      <td>[-0.22166667, 51.475]</td>\n",
       "      <td>3</td>\n",
       "      <td>🅵🆄🅻🅷🅰🅼 - 🅲🅷🅰🆁🅻🆃🅾🅽 🅾🅲🆃🅾🅱🅴🆁 2019 #fulhamfc #socc...</td>\n",
       "      <td>[51.475]</td>\n",
       "      <td>[-0.22166666]</td>\n",
       "      <td>51.474998</td>\n",
       "      <td>-0.221667</td>\n",
       "    </tr>\n",
       "    <tr>\n",
       "      <th>3</th>\n",
       "      <td>Mon Jun 01 15:05:40 +0000 2020</td>\n",
       "      <td>[-0.09838343, 51.51014807]</td>\n",
       "      <td>3</td>\n",
       "      <td>🆂🅺🆈🆂🅲🆁🅰🅿🅴🆁🆂 🅵🆁🅾🅼 🅼🅸🅻🅻🅴🅽🅽🅸🆄🅼 🅱🆁🅸🅳🅶🅴 #milleniumb...</td>\n",
       "      <td>[51.510147]</td>\n",
       "      <td>[-0.09838343]</td>\n",
       "      <td>51.510147</td>\n",
       "      <td>-0.098383</td>\n",
       "    </tr>\n",
       "    <tr>\n",
       "      <th>4</th>\n",
       "      <td>Mon Jun 01 15:09:27 +0000 2020</td>\n",
       "      <td>[-0.19756, 51.36119]</td>\n",
       "      <td>404</td>\n",
       "      <td>Make the most of Monday evening with a delicio...</td>\n",
       "      <td>[51.36119]</td>\n",
       "      <td>[-0.19756]</td>\n",
       "      <td>51.361191</td>\n",
       "      <td>-0.197560</td>\n",
       "    </tr>\n",
       "  </tbody>\n",
       "</table>\n",
       "</div>"
      ],
      "text/plain": [
       "                       created_at                 coordinates  \\\n",
       "0  Mon Jun 01 15:03:41 +0000 2020          [-0.1094, 51.5141]   \n",
       "1  Mon Jun 01 15:03:57 +0000 2020          [-0.1094, 51.5141]   \n",
       "2  Mon Jun 01 15:05:07 +0000 2020       [-0.22166667, 51.475]   \n",
       "3  Mon Jun 01 15:05:40 +0000 2020  [-0.09838343, 51.51014807]   \n",
       "4  Mon Jun 01 15:09:27 +0000 2020        [-0.19756, 51.36119]   \n",
       "\n",
       "   followers_count                                          full_text  \\\n",
       "0              880  Nuevue Cases with  “active technology” just go...   \n",
       "1             1012  We say no to hatred. \\nThe time for change is ...   \n",
       "2                3  🅵🆄🅻🅷🅰🅼 - 🅲🅷🅰🆁🅻🆃🅾🅽 🅾🅲🆃🅾🅱🅴🆁 2019 #fulhamfc #socc...   \n",
       "3                3  🆂🅺🆈🆂🅲🆁🅰🅿🅴🆁🆂 🅵🆁🅾🅼 🅼🅸🅻🅻🅴🅽🅽🅸🆄🅼 🅱🆁🅸🅳🅶🅴 #milleniumb...   \n",
       "4              404  Make the most of Monday evening with a delicio...   \n",
       "\n",
       "      latitude     longditude       llat     llong  \n",
       "0    [51.5141]      [-0.1094]  51.514099 -0.109400  \n",
       "1    [51.5141]      [-0.1094]  51.514099 -0.109400  \n",
       "2     [51.475]  [-0.22166666]  51.474998 -0.221667  \n",
       "3  [51.510147]  [-0.09838343]  51.510147 -0.098383  \n",
       "4   [51.36119]     [-0.19756]  51.361191 -0.197560  "
      ]
     },
     "execution_count": 96,
     "metadata": {},
     "output_type": "execute_result"
    }
   ],
   "source": [
    "lldd_pdf.head()"
   ]
  },
  {
   "cell_type": "code",
   "execution_count": 60,
   "metadata": {},
   "outputs": [
    {
     "data": {
      "application/vnd.plotly.v1+json": {
       "config": {
        "plotlyServerURL": "https://plot.ly"
       },
       "data": [
        {
         "hovertemplate": "llat=%{lat}<br>llong=%{lon}<br>followers_count=%{marker.color}<extra></extra>",
         "lat": [
          51.45640182495117,
          51.49641418457031,
          51.51409912109375,
          51.51409912109375,
          51.50819396972656,
          51.47923278808594,
          51.474998474121094,
          51.51014709472656,
          51.474098205566406,
          51.45640182495117,
          51.36119079589844,
          51.45640182495117,
          51.562679290771484,
          51.562679290771484,
          51.562679290771484,
          37.09280776977539,
          51.45640182495117,
          51.45479965209961,
          51.456031799316406,
          40.400001525878906,
          51.51014709472656,
          51.45640182495117,
          51.45640182495117,
          40.400001525878906,
          51.45640182495117,
          40.400001525878906,
          51.4568977355957,
          51.48215866088867
         ],
         "legendgroup": "",
         "lon": [
          -0.24084000289440155,
          -0.10865434259176254,
          -0.10939999669790268,
          -0.10939999669790268,
          -0.08751512318849564,
          -0.29248881340026855,
          -0.22166666388511658,
          -0.09838342666625977,
          -0.09301000088453293,
          -0.24084000289440155,
          -0.19755999743938446,
          -0.24084000289440155,
          -0.003266999963670969,
          -0.003266999963670969,
          -0.003266999963670969,
          -84.08338928222656,
          -0.24084000289440155,
          -0.15439000725746155,
          -0.3424754738807678,
          -3.6833300590515137,
          -0.09838342666625977,
          -0.24084000289440155,
          -0.24084000289440155,
          -3.6833300590515137,
          -0.24084000289440155,
          -3.6833300590515137,
          -0.18971264362335205,
          -0.29218798875808716
         ],
         "marker": {
          "color": [
           411,
           3,
           880,
           1012,
           3,
           3,
           3,
           3,
           411,
           411,
           404,
           411,
           411,
           411,
           411,
           253,
           411,
           411,
           9498,
           5665,
           3,
           411,
           411,
           5667,
           411,
           5667,
           3863,
           3
          ],
          "coloraxis": "coloraxis"
         },
         "mode": "markers",
         "name": "",
         "showlegend": false,
         "subplot": "mapbox",
         "type": "scattermapbox"
        }
       ],
       "layout": {
        "coloraxis": {
         "colorbar": {
          "title": {
           "text": "followers_count"
          }
         },
         "colorscale": [
          [
           0,
           "#000000"
          ],
          [
           0.0625,
           "#001f4d"
          ],
          [
           0.125,
           "#003786"
          ],
          [
           0.1875,
           "#0e58a8"
          ],
          [
           0.25,
           "#217eb8"
          ],
          [
           0.3125,
           "#30a4ca"
          ],
          [
           0.375,
           "#54c8df"
          ],
          [
           0.4375,
           "#9be4ef"
          ],
          [
           0.5,
           "#e1e9d1"
          ],
          [
           0.5625,
           "#f3d573"
          ],
          [
           0.625,
           "#e7b000"
          ],
          [
           0.6875,
           "#da8200"
          ],
          [
           0.75,
           "#c65400"
          ],
          [
           0.8125,
           "#ac2301"
          ],
          [
           0.875,
           "#820000"
          ],
          [
           0.9375,
           "#4c0000"
          ],
          [
           1,
           "#000000"
          ]
         ]
        },
        "height": 600,
        "legend": {
         "tracegroupgap": 0
        },
        "mapbox": {
         "center": {
          "lat": 49.781006131853374,
          "lon": -3.543724585041803
         },
         "domain": {
          "x": [
           0,
           1
          ],
          "y": [
           0,
           1
          ]
         },
         "style": "open-street-map",
         "zoom": 9.5
        },
        "margin": {
         "b": 0,
         "l": 0,
         "r": 0,
         "t": 0
        },
        "template": {
         "data": {
          "bar": [
           {
            "error_x": {
             "color": "#2a3f5f"
            },
            "error_y": {
             "color": "#2a3f5f"
            },
            "marker": {
             "line": {
              "color": "#E5ECF6",
              "width": 0.5
             }
            },
            "type": "bar"
           }
          ],
          "barpolar": [
           {
            "marker": {
             "line": {
              "color": "#E5ECF6",
              "width": 0.5
             }
            },
            "type": "barpolar"
           }
          ],
          "carpet": [
           {
            "aaxis": {
             "endlinecolor": "#2a3f5f",
             "gridcolor": "white",
             "linecolor": "white",
             "minorgridcolor": "white",
             "startlinecolor": "#2a3f5f"
            },
            "baxis": {
             "endlinecolor": "#2a3f5f",
             "gridcolor": "white",
             "linecolor": "white",
             "minorgridcolor": "white",
             "startlinecolor": "#2a3f5f"
            },
            "type": "carpet"
           }
          ],
          "choropleth": [
           {
            "colorbar": {
             "outlinewidth": 0,
             "ticks": ""
            },
            "type": "choropleth"
           }
          ],
          "contour": [
           {
            "colorbar": {
             "outlinewidth": 0,
             "ticks": ""
            },
            "colorscale": [
             [
              0,
              "#0d0887"
             ],
             [
              0.1111111111111111,
              "#46039f"
             ],
             [
              0.2222222222222222,
              "#7201a8"
             ],
             [
              0.3333333333333333,
              "#9c179e"
             ],
             [
              0.4444444444444444,
              "#bd3786"
             ],
             [
              0.5555555555555556,
              "#d8576b"
             ],
             [
              0.6666666666666666,
              "#ed7953"
             ],
             [
              0.7777777777777778,
              "#fb9f3a"
             ],
             [
              0.8888888888888888,
              "#fdca26"
             ],
             [
              1,
              "#f0f921"
             ]
            ],
            "type": "contour"
           }
          ],
          "contourcarpet": [
           {
            "colorbar": {
             "outlinewidth": 0,
             "ticks": ""
            },
            "type": "contourcarpet"
           }
          ],
          "heatmap": [
           {
            "colorbar": {
             "outlinewidth": 0,
             "ticks": ""
            },
            "colorscale": [
             [
              0,
              "#0d0887"
             ],
             [
              0.1111111111111111,
              "#46039f"
             ],
             [
              0.2222222222222222,
              "#7201a8"
             ],
             [
              0.3333333333333333,
              "#9c179e"
             ],
             [
              0.4444444444444444,
              "#bd3786"
             ],
             [
              0.5555555555555556,
              "#d8576b"
             ],
             [
              0.6666666666666666,
              "#ed7953"
             ],
             [
              0.7777777777777778,
              "#fb9f3a"
             ],
             [
              0.8888888888888888,
              "#fdca26"
             ],
             [
              1,
              "#f0f921"
             ]
            ],
            "type": "heatmap"
           }
          ],
          "heatmapgl": [
           {
            "colorbar": {
             "outlinewidth": 0,
             "ticks": ""
            },
            "colorscale": [
             [
              0,
              "#0d0887"
             ],
             [
              0.1111111111111111,
              "#46039f"
             ],
             [
              0.2222222222222222,
              "#7201a8"
             ],
             [
              0.3333333333333333,
              "#9c179e"
             ],
             [
              0.4444444444444444,
              "#bd3786"
             ],
             [
              0.5555555555555556,
              "#d8576b"
             ],
             [
              0.6666666666666666,
              "#ed7953"
             ],
             [
              0.7777777777777778,
              "#fb9f3a"
             ],
             [
              0.8888888888888888,
              "#fdca26"
             ],
             [
              1,
              "#f0f921"
             ]
            ],
            "type": "heatmapgl"
           }
          ],
          "histogram": [
           {
            "marker": {
             "colorbar": {
              "outlinewidth": 0,
              "ticks": ""
             }
            },
            "type": "histogram"
           }
          ],
          "histogram2d": [
           {
            "colorbar": {
             "outlinewidth": 0,
             "ticks": ""
            },
            "colorscale": [
             [
              0,
              "#0d0887"
             ],
             [
              0.1111111111111111,
              "#46039f"
             ],
             [
              0.2222222222222222,
              "#7201a8"
             ],
             [
              0.3333333333333333,
              "#9c179e"
             ],
             [
              0.4444444444444444,
              "#bd3786"
             ],
             [
              0.5555555555555556,
              "#d8576b"
             ],
             [
              0.6666666666666666,
              "#ed7953"
             ],
             [
              0.7777777777777778,
              "#fb9f3a"
             ],
             [
              0.8888888888888888,
              "#fdca26"
             ],
             [
              1,
              "#f0f921"
             ]
            ],
            "type": "histogram2d"
           }
          ],
          "histogram2dcontour": [
           {
            "colorbar": {
             "outlinewidth": 0,
             "ticks": ""
            },
            "colorscale": [
             [
              0,
              "#0d0887"
             ],
             [
              0.1111111111111111,
              "#46039f"
             ],
             [
              0.2222222222222222,
              "#7201a8"
             ],
             [
              0.3333333333333333,
              "#9c179e"
             ],
             [
              0.4444444444444444,
              "#bd3786"
             ],
             [
              0.5555555555555556,
              "#d8576b"
             ],
             [
              0.6666666666666666,
              "#ed7953"
             ],
             [
              0.7777777777777778,
              "#fb9f3a"
             ],
             [
              0.8888888888888888,
              "#fdca26"
             ],
             [
              1,
              "#f0f921"
             ]
            ],
            "type": "histogram2dcontour"
           }
          ],
          "mesh3d": [
           {
            "colorbar": {
             "outlinewidth": 0,
             "ticks": ""
            },
            "type": "mesh3d"
           }
          ],
          "parcoords": [
           {
            "line": {
             "colorbar": {
              "outlinewidth": 0,
              "ticks": ""
             }
            },
            "type": "parcoords"
           }
          ],
          "pie": [
           {
            "automargin": true,
            "type": "pie"
           }
          ],
          "scatter": [
           {
            "marker": {
             "colorbar": {
              "outlinewidth": 0,
              "ticks": ""
             }
            },
            "type": "scatter"
           }
          ],
          "scatter3d": [
           {
            "line": {
             "colorbar": {
              "outlinewidth": 0,
              "ticks": ""
             }
            },
            "marker": {
             "colorbar": {
              "outlinewidth": 0,
              "ticks": ""
             }
            },
            "type": "scatter3d"
           }
          ],
          "scattercarpet": [
           {
            "marker": {
             "colorbar": {
              "outlinewidth": 0,
              "ticks": ""
             }
            },
            "type": "scattercarpet"
           }
          ],
          "scattergeo": [
           {
            "marker": {
             "colorbar": {
              "outlinewidth": 0,
              "ticks": ""
             }
            },
            "type": "scattergeo"
           }
          ],
          "scattergl": [
           {
            "marker": {
             "colorbar": {
              "outlinewidth": 0,
              "ticks": ""
             }
            },
            "type": "scattergl"
           }
          ],
          "scattermapbox": [
           {
            "marker": {
             "colorbar": {
              "outlinewidth": 0,
              "ticks": ""
             }
            },
            "type": "scattermapbox"
           }
          ],
          "scatterpolar": [
           {
            "marker": {
             "colorbar": {
              "outlinewidth": 0,
              "ticks": ""
             }
            },
            "type": "scatterpolar"
           }
          ],
          "scatterpolargl": [
           {
            "marker": {
             "colorbar": {
              "outlinewidth": 0,
              "ticks": ""
             }
            },
            "type": "scatterpolargl"
           }
          ],
          "scatterternary": [
           {
            "marker": {
             "colorbar": {
              "outlinewidth": 0,
              "ticks": ""
             }
            },
            "type": "scatterternary"
           }
          ],
          "surface": [
           {
            "colorbar": {
             "outlinewidth": 0,
             "ticks": ""
            },
            "colorscale": [
             [
              0,
              "#0d0887"
             ],
             [
              0.1111111111111111,
              "#46039f"
             ],
             [
              0.2222222222222222,
              "#7201a8"
             ],
             [
              0.3333333333333333,
              "#9c179e"
             ],
             [
              0.4444444444444444,
              "#bd3786"
             ],
             [
              0.5555555555555556,
              "#d8576b"
             ],
             [
              0.6666666666666666,
              "#ed7953"
             ],
             [
              0.7777777777777778,
              "#fb9f3a"
             ],
             [
              0.8888888888888888,
              "#fdca26"
             ],
             [
              1,
              "#f0f921"
             ]
            ],
            "type": "surface"
           }
          ],
          "table": [
           {
            "cells": {
             "fill": {
              "color": "#EBF0F8"
             },
             "line": {
              "color": "white"
             }
            },
            "header": {
             "fill": {
              "color": "#C8D4E3"
             },
             "line": {
              "color": "white"
             }
            },
            "type": "table"
           }
          ]
         },
         "layout": {
          "annotationdefaults": {
           "arrowcolor": "#2a3f5f",
           "arrowhead": 0,
           "arrowwidth": 1
          },
          "coloraxis": {
           "colorbar": {
            "outlinewidth": 0,
            "ticks": ""
           }
          },
          "colorscale": {
           "diverging": [
            [
             0,
             "#8e0152"
            ],
            [
             0.1,
             "#c51b7d"
            ],
            [
             0.2,
             "#de77ae"
            ],
            [
             0.3,
             "#f1b6da"
            ],
            [
             0.4,
             "#fde0ef"
            ],
            [
             0.5,
             "#f7f7f7"
            ],
            [
             0.6,
             "#e6f5d0"
            ],
            [
             0.7,
             "#b8e186"
            ],
            [
             0.8,
             "#7fbc41"
            ],
            [
             0.9,
             "#4d9221"
            ],
            [
             1,
             "#276419"
            ]
           ],
           "sequential": [
            [
             0,
             "#0d0887"
            ],
            [
             0.1111111111111111,
             "#46039f"
            ],
            [
             0.2222222222222222,
             "#7201a8"
            ],
            [
             0.3333333333333333,
             "#9c179e"
            ],
            [
             0.4444444444444444,
             "#bd3786"
            ],
            [
             0.5555555555555556,
             "#d8576b"
            ],
            [
             0.6666666666666666,
             "#ed7953"
            ],
            [
             0.7777777777777778,
             "#fb9f3a"
            ],
            [
             0.8888888888888888,
             "#fdca26"
            ],
            [
             1,
             "#f0f921"
            ]
           ],
           "sequentialminus": [
            [
             0,
             "#0d0887"
            ],
            [
             0.1111111111111111,
             "#46039f"
            ],
            [
             0.2222222222222222,
             "#7201a8"
            ],
            [
             0.3333333333333333,
             "#9c179e"
            ],
            [
             0.4444444444444444,
             "#bd3786"
            ],
            [
             0.5555555555555556,
             "#d8576b"
            ],
            [
             0.6666666666666666,
             "#ed7953"
            ],
            [
             0.7777777777777778,
             "#fb9f3a"
            ],
            [
             0.8888888888888888,
             "#fdca26"
            ],
            [
             1,
             "#f0f921"
            ]
           ]
          },
          "colorway": [
           "#636efa",
           "#EF553B",
           "#00cc96",
           "#ab63fa",
           "#FFA15A",
           "#19d3f3",
           "#FF6692",
           "#B6E880",
           "#FF97FF",
           "#FECB52"
          ],
          "font": {
           "color": "#2a3f5f"
          },
          "geo": {
           "bgcolor": "white",
           "lakecolor": "white",
           "landcolor": "#E5ECF6",
           "showlakes": true,
           "showland": true,
           "subunitcolor": "white"
          },
          "hoverlabel": {
           "align": "left"
          },
          "hovermode": "closest",
          "mapbox": {
           "style": "light"
          },
          "paper_bgcolor": "white",
          "plot_bgcolor": "#E5ECF6",
          "polar": {
           "angularaxis": {
            "gridcolor": "white",
            "linecolor": "white",
            "ticks": ""
           },
           "bgcolor": "#E5ECF6",
           "radialaxis": {
            "gridcolor": "white",
            "linecolor": "white",
            "ticks": ""
           }
          },
          "scene": {
           "xaxis": {
            "backgroundcolor": "#E5ECF6",
            "gridcolor": "white",
            "gridwidth": 2,
            "linecolor": "white",
            "showbackground": true,
            "ticks": "",
            "zerolinecolor": "white"
           },
           "yaxis": {
            "backgroundcolor": "#E5ECF6",
            "gridcolor": "white",
            "gridwidth": 2,
            "linecolor": "white",
            "showbackground": true,
            "ticks": "",
            "zerolinecolor": "white"
           },
           "zaxis": {
            "backgroundcolor": "#E5ECF6",
            "gridcolor": "white",
            "gridwidth": 2,
            "linecolor": "white",
            "showbackground": true,
            "ticks": "",
            "zerolinecolor": "white"
           }
          },
          "shapedefaults": {
           "line": {
            "color": "#2a3f5f"
           }
          },
          "ternary": {
           "aaxis": {
            "gridcolor": "white",
            "linecolor": "white",
            "ticks": ""
           },
           "baxis": {
            "gridcolor": "white",
            "linecolor": "white",
            "ticks": ""
           },
           "bgcolor": "#E5ECF6",
           "caxis": {
            "gridcolor": "white",
            "linecolor": "white",
            "ticks": ""
           }
          },
          "title": {
           "x": 0.05
          },
          "xaxis": {
           "automargin": true,
           "gridcolor": "white",
           "linecolor": "white",
           "ticks": "",
           "title": {
            "standoff": 15
           },
           "zerolinecolor": "white",
           "zerolinewidth": 2
          },
          "yaxis": {
           "automargin": true,
           "gridcolor": "white",
           "linecolor": "white",
           "ticks": "",
           "title": {
            "standoff": 15
           },
           "zerolinecolor": "white",
           "zerolinewidth": 2
          }
         }
        }
       }
      },
      "text/html": [
       "<div>\n",
       "        \n",
       "        \n",
       "            <div id=\"4ccc13b5-8711-47e4-ad0d-558c0dd87bb0\" class=\"plotly-graph-div\" style=\"height:600px; width:100%;\"></div>\n",
       "            <script type=\"text/javascript\">\n",
       "                require([\"plotly\"], function(Plotly) {\n",
       "                    window.PLOTLYENV=window.PLOTLYENV || {};\n",
       "                    \n",
       "                if (document.getElementById(\"4ccc13b5-8711-47e4-ad0d-558c0dd87bb0\")) {\n",
       "                    Plotly.newPlot(\n",
       "                        '4ccc13b5-8711-47e4-ad0d-558c0dd87bb0',\n",
       "                        [{\"hovertemplate\": \"llat=%{lat}<br>llong=%{lon}<br>followers_count=%{marker.color}<extra></extra>\", \"lat\": [51.45640182495117, 51.49641418457031, 51.51409912109375, 51.51409912109375, 51.50819396972656, 51.47923278808594, 51.474998474121094, 51.51014709472656, 51.474098205566406, 51.45640182495117, 51.36119079589844, 51.45640182495117, 51.562679290771484, 51.562679290771484, 51.562679290771484, 37.09280776977539, 51.45640182495117, 51.45479965209961, 51.456031799316406, 40.400001525878906, 51.51014709472656, 51.45640182495117, 51.45640182495117, 40.400001525878906, 51.45640182495117, 40.400001525878906, 51.4568977355957, 51.48215866088867], \"legendgroup\": \"\", \"lon\": [-0.24084000289440155, -0.10865434259176254, -0.10939999669790268, -0.10939999669790268, -0.08751512318849564, -0.29248881340026855, -0.22166666388511658, -0.09838342666625977, -0.09301000088453293, -0.24084000289440155, -0.19755999743938446, -0.24084000289440155, -0.003266999963670969, -0.003266999963670969, -0.003266999963670969, -84.08338928222656, -0.24084000289440155, -0.15439000725746155, -0.3424754738807678, -3.6833300590515137, -0.09838342666625977, -0.24084000289440155, -0.24084000289440155, -3.6833300590515137, -0.24084000289440155, -3.6833300590515137, -0.18971264362335205, -0.29218798875808716], \"marker\": {\"color\": [411, 3, 880, 1012, 3, 3, 3, 3, 411, 411, 404, 411, 411, 411, 411, 253, 411, 411, 9498, 5665, 3, 411, 411, 5667, 411, 5667, 3863, 3], \"coloraxis\": \"coloraxis\"}, \"mode\": \"markers\", \"name\": \"\", \"showlegend\": false, \"subplot\": \"mapbox\", \"type\": \"scattermapbox\"}],\n",
       "                        {\"coloraxis\": {\"colorbar\": {\"title\": {\"text\": \"followers_count\"}}, \"colorscale\": [[0.0, \"#000000\"], [0.0625, \"#001f4d\"], [0.125, \"#003786\"], [0.1875, \"#0e58a8\"], [0.25, \"#217eb8\"], [0.3125, \"#30a4ca\"], [0.375, \"#54c8df\"], [0.4375, \"#9be4ef\"], [0.5, \"#e1e9d1\"], [0.5625, \"#f3d573\"], [0.625, \"#e7b000\"], [0.6875, \"#da8200\"], [0.75, \"#c65400\"], [0.8125, \"#ac2301\"], [0.875, \"#820000\"], [0.9375, \"#4c0000\"], [1.0, \"#000000\"]]}, \"height\": 600, \"legend\": {\"tracegroupgap\": 0}, \"mapbox\": {\"center\": {\"lat\": 49.781006131853374, \"lon\": -3.543724585041803}, \"domain\": {\"x\": [0.0, 1.0], \"y\": [0.0, 1.0]}, \"style\": \"open-street-map\", \"zoom\": 9.5}, \"margin\": {\"b\": 0, \"l\": 0, \"r\": 0, \"t\": 0}, \"template\": {\"data\": {\"bar\": [{\"error_x\": {\"color\": \"#2a3f5f\"}, \"error_y\": {\"color\": \"#2a3f5f\"}, \"marker\": {\"line\": {\"color\": \"#E5ECF6\", \"width\": 0.5}}, \"type\": \"bar\"}], \"barpolar\": [{\"marker\": {\"line\": {\"color\": \"#E5ECF6\", \"width\": 0.5}}, \"type\": \"barpolar\"}], \"carpet\": [{\"aaxis\": {\"endlinecolor\": \"#2a3f5f\", \"gridcolor\": \"white\", \"linecolor\": \"white\", \"minorgridcolor\": \"white\", \"startlinecolor\": \"#2a3f5f\"}, \"baxis\": {\"endlinecolor\": \"#2a3f5f\", \"gridcolor\": \"white\", \"linecolor\": \"white\", \"minorgridcolor\": \"white\", \"startlinecolor\": \"#2a3f5f\"}, \"type\": \"carpet\"}], \"choropleth\": [{\"colorbar\": {\"outlinewidth\": 0, \"ticks\": \"\"}, \"type\": \"choropleth\"}], \"contour\": [{\"colorbar\": {\"outlinewidth\": 0, \"ticks\": \"\"}, \"colorscale\": [[0.0, \"#0d0887\"], [0.1111111111111111, \"#46039f\"], [0.2222222222222222, \"#7201a8\"], [0.3333333333333333, \"#9c179e\"], [0.4444444444444444, \"#bd3786\"], [0.5555555555555556, \"#d8576b\"], [0.6666666666666666, \"#ed7953\"], [0.7777777777777778, \"#fb9f3a\"], [0.8888888888888888, \"#fdca26\"], [1.0, \"#f0f921\"]], \"type\": \"contour\"}], \"contourcarpet\": [{\"colorbar\": {\"outlinewidth\": 0, \"ticks\": \"\"}, \"type\": \"contourcarpet\"}], \"heatmap\": [{\"colorbar\": {\"outlinewidth\": 0, \"ticks\": \"\"}, \"colorscale\": [[0.0, \"#0d0887\"], [0.1111111111111111, \"#46039f\"], [0.2222222222222222, \"#7201a8\"], [0.3333333333333333, \"#9c179e\"], [0.4444444444444444, \"#bd3786\"], [0.5555555555555556, \"#d8576b\"], [0.6666666666666666, \"#ed7953\"], [0.7777777777777778, \"#fb9f3a\"], [0.8888888888888888, \"#fdca26\"], [1.0, \"#f0f921\"]], \"type\": \"heatmap\"}], \"heatmapgl\": [{\"colorbar\": {\"outlinewidth\": 0, \"ticks\": \"\"}, \"colorscale\": [[0.0, \"#0d0887\"], [0.1111111111111111, \"#46039f\"], [0.2222222222222222, \"#7201a8\"], [0.3333333333333333, \"#9c179e\"], [0.4444444444444444, \"#bd3786\"], [0.5555555555555556, \"#d8576b\"], [0.6666666666666666, \"#ed7953\"], [0.7777777777777778, \"#fb9f3a\"], [0.8888888888888888, \"#fdca26\"], [1.0, \"#f0f921\"]], \"type\": \"heatmapgl\"}], \"histogram\": [{\"marker\": {\"colorbar\": {\"outlinewidth\": 0, \"ticks\": \"\"}}, \"type\": \"histogram\"}], \"histogram2d\": [{\"colorbar\": {\"outlinewidth\": 0, \"ticks\": \"\"}, \"colorscale\": [[0.0, \"#0d0887\"], [0.1111111111111111, \"#46039f\"], [0.2222222222222222, \"#7201a8\"], [0.3333333333333333, \"#9c179e\"], [0.4444444444444444, \"#bd3786\"], [0.5555555555555556, \"#d8576b\"], [0.6666666666666666, \"#ed7953\"], [0.7777777777777778, \"#fb9f3a\"], [0.8888888888888888, \"#fdca26\"], [1.0, \"#f0f921\"]], \"type\": \"histogram2d\"}], \"histogram2dcontour\": [{\"colorbar\": {\"outlinewidth\": 0, \"ticks\": \"\"}, \"colorscale\": [[0.0, \"#0d0887\"], [0.1111111111111111, \"#46039f\"], [0.2222222222222222, \"#7201a8\"], [0.3333333333333333, \"#9c179e\"], [0.4444444444444444, \"#bd3786\"], [0.5555555555555556, \"#d8576b\"], [0.6666666666666666, \"#ed7953\"], [0.7777777777777778, \"#fb9f3a\"], [0.8888888888888888, \"#fdca26\"], [1.0, \"#f0f921\"]], \"type\": \"histogram2dcontour\"}], \"mesh3d\": [{\"colorbar\": {\"outlinewidth\": 0, \"ticks\": \"\"}, \"type\": \"mesh3d\"}], \"parcoords\": [{\"line\": {\"colorbar\": {\"outlinewidth\": 0, \"ticks\": \"\"}}, \"type\": \"parcoords\"}], \"pie\": [{\"automargin\": true, \"type\": \"pie\"}], \"scatter\": [{\"marker\": {\"colorbar\": {\"outlinewidth\": 0, \"ticks\": \"\"}}, \"type\": \"scatter\"}], \"scatter3d\": [{\"line\": {\"colorbar\": {\"outlinewidth\": 0, \"ticks\": \"\"}}, \"marker\": {\"colorbar\": {\"outlinewidth\": 0, \"ticks\": \"\"}}, \"type\": \"scatter3d\"}], \"scattercarpet\": [{\"marker\": {\"colorbar\": {\"outlinewidth\": 0, \"ticks\": \"\"}}, \"type\": \"scattercarpet\"}], \"scattergeo\": [{\"marker\": {\"colorbar\": {\"outlinewidth\": 0, \"ticks\": \"\"}}, \"type\": \"scattergeo\"}], \"scattergl\": [{\"marker\": {\"colorbar\": {\"outlinewidth\": 0, \"ticks\": \"\"}}, \"type\": \"scattergl\"}], \"scattermapbox\": [{\"marker\": {\"colorbar\": {\"outlinewidth\": 0, \"ticks\": \"\"}}, \"type\": \"scattermapbox\"}], \"scatterpolar\": [{\"marker\": {\"colorbar\": {\"outlinewidth\": 0, \"ticks\": \"\"}}, \"type\": \"scatterpolar\"}], \"scatterpolargl\": [{\"marker\": {\"colorbar\": {\"outlinewidth\": 0, \"ticks\": \"\"}}, \"type\": \"scatterpolargl\"}], \"scatterternary\": [{\"marker\": {\"colorbar\": {\"outlinewidth\": 0, \"ticks\": \"\"}}, \"type\": \"scatterternary\"}], \"surface\": [{\"colorbar\": {\"outlinewidth\": 0, \"ticks\": \"\"}, \"colorscale\": [[0.0, \"#0d0887\"], [0.1111111111111111, \"#46039f\"], [0.2222222222222222, \"#7201a8\"], [0.3333333333333333, \"#9c179e\"], [0.4444444444444444, \"#bd3786\"], [0.5555555555555556, \"#d8576b\"], [0.6666666666666666, \"#ed7953\"], [0.7777777777777778, \"#fb9f3a\"], [0.8888888888888888, \"#fdca26\"], [1.0, \"#f0f921\"]], \"type\": \"surface\"}], \"table\": [{\"cells\": {\"fill\": {\"color\": \"#EBF0F8\"}, \"line\": {\"color\": \"white\"}}, \"header\": {\"fill\": {\"color\": \"#C8D4E3\"}, \"line\": {\"color\": \"white\"}}, \"type\": \"table\"}]}, \"layout\": {\"annotationdefaults\": {\"arrowcolor\": \"#2a3f5f\", \"arrowhead\": 0, \"arrowwidth\": 1}, \"coloraxis\": {\"colorbar\": {\"outlinewidth\": 0, \"ticks\": \"\"}}, \"colorscale\": {\"diverging\": [[0, \"#8e0152\"], [0.1, \"#c51b7d\"], [0.2, \"#de77ae\"], [0.3, \"#f1b6da\"], [0.4, \"#fde0ef\"], [0.5, \"#f7f7f7\"], [0.6, \"#e6f5d0\"], [0.7, \"#b8e186\"], [0.8, \"#7fbc41\"], [0.9, \"#4d9221\"], [1, \"#276419\"]], \"sequential\": [[0.0, \"#0d0887\"], [0.1111111111111111, \"#46039f\"], [0.2222222222222222, \"#7201a8\"], [0.3333333333333333, \"#9c179e\"], [0.4444444444444444, \"#bd3786\"], [0.5555555555555556, \"#d8576b\"], [0.6666666666666666, \"#ed7953\"], [0.7777777777777778, \"#fb9f3a\"], [0.8888888888888888, \"#fdca26\"], [1.0, \"#f0f921\"]], \"sequentialminus\": [[0.0, \"#0d0887\"], [0.1111111111111111, \"#46039f\"], [0.2222222222222222, \"#7201a8\"], [0.3333333333333333, \"#9c179e\"], [0.4444444444444444, \"#bd3786\"], [0.5555555555555556, \"#d8576b\"], [0.6666666666666666, \"#ed7953\"], [0.7777777777777778, \"#fb9f3a\"], [0.8888888888888888, \"#fdca26\"], [1.0, \"#f0f921\"]]}, \"colorway\": [\"#636efa\", \"#EF553B\", \"#00cc96\", \"#ab63fa\", \"#FFA15A\", \"#19d3f3\", \"#FF6692\", \"#B6E880\", \"#FF97FF\", \"#FECB52\"], \"font\": {\"color\": \"#2a3f5f\"}, \"geo\": {\"bgcolor\": \"white\", \"lakecolor\": \"white\", \"landcolor\": \"#E5ECF6\", \"showlakes\": true, \"showland\": true, \"subunitcolor\": \"white\"}, \"hoverlabel\": {\"align\": \"left\"}, \"hovermode\": \"closest\", \"mapbox\": {\"style\": \"light\"}, \"paper_bgcolor\": \"white\", \"plot_bgcolor\": \"#E5ECF6\", \"polar\": {\"angularaxis\": {\"gridcolor\": \"white\", \"linecolor\": \"white\", \"ticks\": \"\"}, \"bgcolor\": \"#E5ECF6\", \"radialaxis\": {\"gridcolor\": \"white\", \"linecolor\": \"white\", \"ticks\": \"\"}}, \"scene\": {\"xaxis\": {\"backgroundcolor\": \"#E5ECF6\", \"gridcolor\": \"white\", \"gridwidth\": 2, \"linecolor\": \"white\", \"showbackground\": true, \"ticks\": \"\", \"zerolinecolor\": \"white\"}, \"yaxis\": {\"backgroundcolor\": \"#E5ECF6\", \"gridcolor\": \"white\", \"gridwidth\": 2, \"linecolor\": \"white\", \"showbackground\": true, \"ticks\": \"\", \"zerolinecolor\": \"white\"}, \"zaxis\": {\"backgroundcolor\": \"#E5ECF6\", \"gridcolor\": \"white\", \"gridwidth\": 2, \"linecolor\": \"white\", \"showbackground\": true, \"ticks\": \"\", \"zerolinecolor\": \"white\"}}, \"shapedefaults\": {\"line\": {\"color\": \"#2a3f5f\"}}, \"ternary\": {\"aaxis\": {\"gridcolor\": \"white\", \"linecolor\": \"white\", \"ticks\": \"\"}, \"baxis\": {\"gridcolor\": \"white\", \"linecolor\": \"white\", \"ticks\": \"\"}, \"bgcolor\": \"#E5ECF6\", \"caxis\": {\"gridcolor\": \"white\", \"linecolor\": \"white\", \"ticks\": \"\"}}, \"title\": {\"x\": 0.05}, \"xaxis\": {\"automargin\": true, \"gridcolor\": \"white\", \"linecolor\": \"white\", \"ticks\": \"\", \"title\": {\"standoff\": 15}, \"zerolinecolor\": \"white\", \"zerolinewidth\": 2}, \"yaxis\": {\"automargin\": true, \"gridcolor\": \"white\", \"linecolor\": \"white\", \"ticks\": \"\", \"title\": {\"standoff\": 15}, \"zerolinecolor\": \"white\", \"zerolinewidth\": 2}}}},\n",
       "                        {\"responsive\": true}\n",
       "                    ).then(function(){\n",
       "                            \n",
       "var gd = document.getElementById('4ccc13b5-8711-47e4-ad0d-558c0dd87bb0');\n",
       "var x = new MutationObserver(function (mutations, observer) {{\n",
       "        var display = window.getComputedStyle(gd).display;\n",
       "        if (!display || display === 'none') {{\n",
       "            console.log([gd, 'removed!']);\n",
       "            Plotly.purge(gd);\n",
       "            observer.disconnect();\n",
       "        }}\n",
       "}});\n",
       "\n",
       "// Listen for the removal of the full notebook cells\n",
       "var notebookContainer = gd.closest('#notebook-container');\n",
       "if (notebookContainer) {{\n",
       "    x.observe(notebookContainer, {childList: true});\n",
       "}}\n",
       "\n",
       "// Listen for the clearing of the current output cell\n",
       "var outputEl = gd.closest('.output');\n",
       "if (outputEl) {{\n",
       "    x.observe(outputEl, {childList: true});\n",
       "}}\n",
       "\n",
       "                        })\n",
       "                };\n",
       "                });\n",
       "            </script>\n",
       "        </div>"
      ]
     },
     "metadata": {},
     "output_type": "display_data"
    }
   ],
   "source": [
    "import plotly.express as px\n",
    "\n",
    "fig = px.scatter_mapbox(lldd_pdf, lat=\"llat\", lon=\"llong\", color=\"followers_count\",\n",
    "                        color_continuous_scale=px.colors.cyclical.IceFire, zoom=9.5, height=600)\n",
    "fig.update_layout(mapbox_style=\"open-street-map\")\n",
    "fig.update_layout(margin={\"r\":0,\"t\":0,\"l\":0,\"b\":0})\n",
    "fig.show()"
   ]
  },
  {
   "cell_type": "code",
   "execution_count": 61,
   "metadata": {},
   "outputs": [
    {
     "data": {
      "application/vnd.plotly.v1+json": {
       "config": {
        "plotlyServerURL": "https://plot.ly"
       },
       "data": [
        {
         "hovertemplate": "llat=%{lat}<br>llong=%{lon}<br>followers_count=%{marker.color}<extra></extra>",
         "lat": [
          51.45640182495117,
          51.49641418457031,
          51.51409912109375,
          51.51409912109375,
          51.50819396972656,
          51.47923278808594,
          51.474998474121094,
          51.51014709472656,
          51.474098205566406,
          51.45640182495117,
          51.36119079589844,
          51.45640182495117,
          51.562679290771484,
          51.562679290771484,
          51.562679290771484,
          37.09280776977539,
          51.45640182495117,
          51.45479965209961,
          51.456031799316406,
          40.400001525878906,
          51.51014709472656,
          51.45640182495117,
          51.45640182495117,
          40.400001525878906,
          51.45640182495117,
          40.400001525878906,
          51.4568977355957,
          51.48215866088867
         ],
         "legendgroup": "",
         "lon": [
          -0.24084000289440155,
          -0.10865434259176254,
          -0.10939999669790268,
          -0.10939999669790268,
          -0.08751512318849564,
          -0.29248881340026855,
          -0.22166666388511658,
          -0.09838342666625977,
          -0.09301000088453293,
          -0.24084000289440155,
          -0.19755999743938446,
          -0.24084000289440155,
          -0.003266999963670969,
          -0.003266999963670969,
          -0.003266999963670969,
          -84.08338928222656,
          -0.24084000289440155,
          -0.15439000725746155,
          -0.3424754738807678,
          -3.6833300590515137,
          -0.09838342666625977,
          -0.24084000289440155,
          -0.24084000289440155,
          -3.6833300590515137,
          -0.24084000289440155,
          -3.6833300590515137,
          -0.18971264362335205,
          -0.29218798875808716
         ],
         "marker": {
          "color": [
           411,
           3,
           880,
           1012,
           3,
           3,
           3,
           3,
           411,
           411,
           404,
           411,
           411,
           411,
           411,
           253,
           411,
           411,
           9498,
           5665,
           3,
           411,
           411,
           5667,
           411,
           5667,
           3863,
           3
          ],
          "coloraxis": "coloraxis"
         },
         "mode": "markers",
         "name": "",
         "showlegend": false,
         "subplot": "mapbox",
         "type": "scattermapbox"
        }
       ],
       "layout": {
        "coloraxis": {
         "colorbar": {
          "title": {
           "text": "followers_count"
          }
         },
         "colorscale": [
          [
           0,
           "#000000"
          ],
          [
           0.0625,
           "#001f4d"
          ],
          [
           0.125,
           "#003786"
          ],
          [
           0.1875,
           "#0e58a8"
          ],
          [
           0.25,
           "#217eb8"
          ],
          [
           0.3125,
           "#30a4ca"
          ],
          [
           0.375,
           "#54c8df"
          ],
          [
           0.4375,
           "#9be4ef"
          ],
          [
           0.5,
           "#e1e9d1"
          ],
          [
           0.5625,
           "#f3d573"
          ],
          [
           0.625,
           "#e7b000"
          ],
          [
           0.6875,
           "#da8200"
          ],
          [
           0.75,
           "#c65400"
          ],
          [
           0.8125,
           "#ac2301"
          ],
          [
           0.875,
           "#820000"
          ],
          [
           0.9375,
           "#4c0000"
          ],
          [
           1,
           "#000000"
          ]
         ]
        },
        "height": 600,
        "legend": {
         "tracegroupgap": 0
        },
        "mapbox": {
         "center": {
          "lat": 49.781006131853374,
          "lon": -3.543724585041803
         },
         "domain": {
          "x": [
           0,
           1
          ],
          "y": [
           0,
           1
          ]
         },
         "style": "carto-positron",
         "zoom": 9.5
        },
        "margin": {
         "b": 0,
         "l": 0,
         "r": 0,
         "t": 0
        },
        "template": {
         "data": {
          "bar": [
           {
            "error_x": {
             "color": "#2a3f5f"
            },
            "error_y": {
             "color": "#2a3f5f"
            },
            "marker": {
             "line": {
              "color": "#E5ECF6",
              "width": 0.5
             }
            },
            "type": "bar"
           }
          ],
          "barpolar": [
           {
            "marker": {
             "line": {
              "color": "#E5ECF6",
              "width": 0.5
             }
            },
            "type": "barpolar"
           }
          ],
          "carpet": [
           {
            "aaxis": {
             "endlinecolor": "#2a3f5f",
             "gridcolor": "white",
             "linecolor": "white",
             "minorgridcolor": "white",
             "startlinecolor": "#2a3f5f"
            },
            "baxis": {
             "endlinecolor": "#2a3f5f",
             "gridcolor": "white",
             "linecolor": "white",
             "minorgridcolor": "white",
             "startlinecolor": "#2a3f5f"
            },
            "type": "carpet"
           }
          ],
          "choropleth": [
           {
            "colorbar": {
             "outlinewidth": 0,
             "ticks": ""
            },
            "type": "choropleth"
           }
          ],
          "contour": [
           {
            "colorbar": {
             "outlinewidth": 0,
             "ticks": ""
            },
            "colorscale": [
             [
              0,
              "#0d0887"
             ],
             [
              0.1111111111111111,
              "#46039f"
             ],
             [
              0.2222222222222222,
              "#7201a8"
             ],
             [
              0.3333333333333333,
              "#9c179e"
             ],
             [
              0.4444444444444444,
              "#bd3786"
             ],
             [
              0.5555555555555556,
              "#d8576b"
             ],
             [
              0.6666666666666666,
              "#ed7953"
             ],
             [
              0.7777777777777778,
              "#fb9f3a"
             ],
             [
              0.8888888888888888,
              "#fdca26"
             ],
             [
              1,
              "#f0f921"
             ]
            ],
            "type": "contour"
           }
          ],
          "contourcarpet": [
           {
            "colorbar": {
             "outlinewidth": 0,
             "ticks": ""
            },
            "type": "contourcarpet"
           }
          ],
          "heatmap": [
           {
            "colorbar": {
             "outlinewidth": 0,
             "ticks": ""
            },
            "colorscale": [
             [
              0,
              "#0d0887"
             ],
             [
              0.1111111111111111,
              "#46039f"
             ],
             [
              0.2222222222222222,
              "#7201a8"
             ],
             [
              0.3333333333333333,
              "#9c179e"
             ],
             [
              0.4444444444444444,
              "#bd3786"
             ],
             [
              0.5555555555555556,
              "#d8576b"
             ],
             [
              0.6666666666666666,
              "#ed7953"
             ],
             [
              0.7777777777777778,
              "#fb9f3a"
             ],
             [
              0.8888888888888888,
              "#fdca26"
             ],
             [
              1,
              "#f0f921"
             ]
            ],
            "type": "heatmap"
           }
          ],
          "heatmapgl": [
           {
            "colorbar": {
             "outlinewidth": 0,
             "ticks": ""
            },
            "colorscale": [
             [
              0,
              "#0d0887"
             ],
             [
              0.1111111111111111,
              "#46039f"
             ],
             [
              0.2222222222222222,
              "#7201a8"
             ],
             [
              0.3333333333333333,
              "#9c179e"
             ],
             [
              0.4444444444444444,
              "#bd3786"
             ],
             [
              0.5555555555555556,
              "#d8576b"
             ],
             [
              0.6666666666666666,
              "#ed7953"
             ],
             [
              0.7777777777777778,
              "#fb9f3a"
             ],
             [
              0.8888888888888888,
              "#fdca26"
             ],
             [
              1,
              "#f0f921"
             ]
            ],
            "type": "heatmapgl"
           }
          ],
          "histogram": [
           {
            "marker": {
             "colorbar": {
              "outlinewidth": 0,
              "ticks": ""
             }
            },
            "type": "histogram"
           }
          ],
          "histogram2d": [
           {
            "colorbar": {
             "outlinewidth": 0,
             "ticks": ""
            },
            "colorscale": [
             [
              0,
              "#0d0887"
             ],
             [
              0.1111111111111111,
              "#46039f"
             ],
             [
              0.2222222222222222,
              "#7201a8"
             ],
             [
              0.3333333333333333,
              "#9c179e"
             ],
             [
              0.4444444444444444,
              "#bd3786"
             ],
             [
              0.5555555555555556,
              "#d8576b"
             ],
             [
              0.6666666666666666,
              "#ed7953"
             ],
             [
              0.7777777777777778,
              "#fb9f3a"
             ],
             [
              0.8888888888888888,
              "#fdca26"
             ],
             [
              1,
              "#f0f921"
             ]
            ],
            "type": "histogram2d"
           }
          ],
          "histogram2dcontour": [
           {
            "colorbar": {
             "outlinewidth": 0,
             "ticks": ""
            },
            "colorscale": [
             [
              0,
              "#0d0887"
             ],
             [
              0.1111111111111111,
              "#46039f"
             ],
             [
              0.2222222222222222,
              "#7201a8"
             ],
             [
              0.3333333333333333,
              "#9c179e"
             ],
             [
              0.4444444444444444,
              "#bd3786"
             ],
             [
              0.5555555555555556,
              "#d8576b"
             ],
             [
              0.6666666666666666,
              "#ed7953"
             ],
             [
              0.7777777777777778,
              "#fb9f3a"
             ],
             [
              0.8888888888888888,
              "#fdca26"
             ],
             [
              1,
              "#f0f921"
             ]
            ],
            "type": "histogram2dcontour"
           }
          ],
          "mesh3d": [
           {
            "colorbar": {
             "outlinewidth": 0,
             "ticks": ""
            },
            "type": "mesh3d"
           }
          ],
          "parcoords": [
           {
            "line": {
             "colorbar": {
              "outlinewidth": 0,
              "ticks": ""
             }
            },
            "type": "parcoords"
           }
          ],
          "pie": [
           {
            "automargin": true,
            "type": "pie"
           }
          ],
          "scatter": [
           {
            "marker": {
             "colorbar": {
              "outlinewidth": 0,
              "ticks": ""
             }
            },
            "type": "scatter"
           }
          ],
          "scatter3d": [
           {
            "line": {
             "colorbar": {
              "outlinewidth": 0,
              "ticks": ""
             }
            },
            "marker": {
             "colorbar": {
              "outlinewidth": 0,
              "ticks": ""
             }
            },
            "type": "scatter3d"
           }
          ],
          "scattercarpet": [
           {
            "marker": {
             "colorbar": {
              "outlinewidth": 0,
              "ticks": ""
             }
            },
            "type": "scattercarpet"
           }
          ],
          "scattergeo": [
           {
            "marker": {
             "colorbar": {
              "outlinewidth": 0,
              "ticks": ""
             }
            },
            "type": "scattergeo"
           }
          ],
          "scattergl": [
           {
            "marker": {
             "colorbar": {
              "outlinewidth": 0,
              "ticks": ""
             }
            },
            "type": "scattergl"
           }
          ],
          "scattermapbox": [
           {
            "marker": {
             "colorbar": {
              "outlinewidth": 0,
              "ticks": ""
             }
            },
            "type": "scattermapbox"
           }
          ],
          "scatterpolar": [
           {
            "marker": {
             "colorbar": {
              "outlinewidth": 0,
              "ticks": ""
             }
            },
            "type": "scatterpolar"
           }
          ],
          "scatterpolargl": [
           {
            "marker": {
             "colorbar": {
              "outlinewidth": 0,
              "ticks": ""
             }
            },
            "type": "scatterpolargl"
           }
          ],
          "scatterternary": [
           {
            "marker": {
             "colorbar": {
              "outlinewidth": 0,
              "ticks": ""
             }
            },
            "type": "scatterternary"
           }
          ],
          "surface": [
           {
            "colorbar": {
             "outlinewidth": 0,
             "ticks": ""
            },
            "colorscale": [
             [
              0,
              "#0d0887"
             ],
             [
              0.1111111111111111,
              "#46039f"
             ],
             [
              0.2222222222222222,
              "#7201a8"
             ],
             [
              0.3333333333333333,
              "#9c179e"
             ],
             [
              0.4444444444444444,
              "#bd3786"
             ],
             [
              0.5555555555555556,
              "#d8576b"
             ],
             [
              0.6666666666666666,
              "#ed7953"
             ],
             [
              0.7777777777777778,
              "#fb9f3a"
             ],
             [
              0.8888888888888888,
              "#fdca26"
             ],
             [
              1,
              "#f0f921"
             ]
            ],
            "type": "surface"
           }
          ],
          "table": [
           {
            "cells": {
             "fill": {
              "color": "#EBF0F8"
             },
             "line": {
              "color": "white"
             }
            },
            "header": {
             "fill": {
              "color": "#C8D4E3"
             },
             "line": {
              "color": "white"
             }
            },
            "type": "table"
           }
          ]
         },
         "layout": {
          "annotationdefaults": {
           "arrowcolor": "#2a3f5f",
           "arrowhead": 0,
           "arrowwidth": 1
          },
          "coloraxis": {
           "colorbar": {
            "outlinewidth": 0,
            "ticks": ""
           }
          },
          "colorscale": {
           "diverging": [
            [
             0,
             "#8e0152"
            ],
            [
             0.1,
             "#c51b7d"
            ],
            [
             0.2,
             "#de77ae"
            ],
            [
             0.3,
             "#f1b6da"
            ],
            [
             0.4,
             "#fde0ef"
            ],
            [
             0.5,
             "#f7f7f7"
            ],
            [
             0.6,
             "#e6f5d0"
            ],
            [
             0.7,
             "#b8e186"
            ],
            [
             0.8,
             "#7fbc41"
            ],
            [
             0.9,
             "#4d9221"
            ],
            [
             1,
             "#276419"
            ]
           ],
           "sequential": [
            [
             0,
             "#0d0887"
            ],
            [
             0.1111111111111111,
             "#46039f"
            ],
            [
             0.2222222222222222,
             "#7201a8"
            ],
            [
             0.3333333333333333,
             "#9c179e"
            ],
            [
             0.4444444444444444,
             "#bd3786"
            ],
            [
             0.5555555555555556,
             "#d8576b"
            ],
            [
             0.6666666666666666,
             "#ed7953"
            ],
            [
             0.7777777777777778,
             "#fb9f3a"
            ],
            [
             0.8888888888888888,
             "#fdca26"
            ],
            [
             1,
             "#f0f921"
            ]
           ],
           "sequentialminus": [
            [
             0,
             "#0d0887"
            ],
            [
             0.1111111111111111,
             "#46039f"
            ],
            [
             0.2222222222222222,
             "#7201a8"
            ],
            [
             0.3333333333333333,
             "#9c179e"
            ],
            [
             0.4444444444444444,
             "#bd3786"
            ],
            [
             0.5555555555555556,
             "#d8576b"
            ],
            [
             0.6666666666666666,
             "#ed7953"
            ],
            [
             0.7777777777777778,
             "#fb9f3a"
            ],
            [
             0.8888888888888888,
             "#fdca26"
            ],
            [
             1,
             "#f0f921"
            ]
           ]
          },
          "colorway": [
           "#636efa",
           "#EF553B",
           "#00cc96",
           "#ab63fa",
           "#FFA15A",
           "#19d3f3",
           "#FF6692",
           "#B6E880",
           "#FF97FF",
           "#FECB52"
          ],
          "font": {
           "color": "#2a3f5f"
          },
          "geo": {
           "bgcolor": "white",
           "lakecolor": "white",
           "landcolor": "#E5ECF6",
           "showlakes": true,
           "showland": true,
           "subunitcolor": "white"
          },
          "hoverlabel": {
           "align": "left"
          },
          "hovermode": "closest",
          "mapbox": {
           "style": "light"
          },
          "paper_bgcolor": "white",
          "plot_bgcolor": "#E5ECF6",
          "polar": {
           "angularaxis": {
            "gridcolor": "white",
            "linecolor": "white",
            "ticks": ""
           },
           "bgcolor": "#E5ECF6",
           "radialaxis": {
            "gridcolor": "white",
            "linecolor": "white",
            "ticks": ""
           }
          },
          "scene": {
           "xaxis": {
            "backgroundcolor": "#E5ECF6",
            "gridcolor": "white",
            "gridwidth": 2,
            "linecolor": "white",
            "showbackground": true,
            "ticks": "",
            "zerolinecolor": "white"
           },
           "yaxis": {
            "backgroundcolor": "#E5ECF6",
            "gridcolor": "white",
            "gridwidth": 2,
            "linecolor": "white",
            "showbackground": true,
            "ticks": "",
            "zerolinecolor": "white"
           },
           "zaxis": {
            "backgroundcolor": "#E5ECF6",
            "gridcolor": "white",
            "gridwidth": 2,
            "linecolor": "white",
            "showbackground": true,
            "ticks": "",
            "zerolinecolor": "white"
           }
          },
          "shapedefaults": {
           "line": {
            "color": "#2a3f5f"
           }
          },
          "ternary": {
           "aaxis": {
            "gridcolor": "white",
            "linecolor": "white",
            "ticks": ""
           },
           "baxis": {
            "gridcolor": "white",
            "linecolor": "white",
            "ticks": ""
           },
           "bgcolor": "#E5ECF6",
           "caxis": {
            "gridcolor": "white",
            "linecolor": "white",
            "ticks": ""
           }
          },
          "title": {
           "x": 0.05
          },
          "xaxis": {
           "automargin": true,
           "gridcolor": "white",
           "linecolor": "white",
           "ticks": "",
           "title": {
            "standoff": 15
           },
           "zerolinecolor": "white",
           "zerolinewidth": 2
          },
          "yaxis": {
           "automargin": true,
           "gridcolor": "white",
           "linecolor": "white",
           "ticks": "",
           "title": {
            "standoff": 15
           },
           "zerolinecolor": "white",
           "zerolinewidth": 2
          }
         }
        }
       }
      },
      "text/html": [
       "<div>\n",
       "        \n",
       "        \n",
       "            <div id=\"93e8abcc-2207-4ccb-9295-905f3a87e0d7\" class=\"plotly-graph-div\" style=\"height:600px; width:100%;\"></div>\n",
       "            <script type=\"text/javascript\">\n",
       "                require([\"plotly\"], function(Plotly) {\n",
       "                    window.PLOTLYENV=window.PLOTLYENV || {};\n",
       "                    \n",
       "                if (document.getElementById(\"93e8abcc-2207-4ccb-9295-905f3a87e0d7\")) {\n",
       "                    Plotly.newPlot(\n",
       "                        '93e8abcc-2207-4ccb-9295-905f3a87e0d7',\n",
       "                        [{\"hovertemplate\": \"llat=%{lat}<br>llong=%{lon}<br>followers_count=%{marker.color}<extra></extra>\", \"lat\": [51.45640182495117, 51.49641418457031, 51.51409912109375, 51.51409912109375, 51.50819396972656, 51.47923278808594, 51.474998474121094, 51.51014709472656, 51.474098205566406, 51.45640182495117, 51.36119079589844, 51.45640182495117, 51.562679290771484, 51.562679290771484, 51.562679290771484, 37.09280776977539, 51.45640182495117, 51.45479965209961, 51.456031799316406, 40.400001525878906, 51.51014709472656, 51.45640182495117, 51.45640182495117, 40.400001525878906, 51.45640182495117, 40.400001525878906, 51.4568977355957, 51.48215866088867], \"legendgroup\": \"\", \"lon\": [-0.24084000289440155, -0.10865434259176254, -0.10939999669790268, -0.10939999669790268, -0.08751512318849564, -0.29248881340026855, -0.22166666388511658, -0.09838342666625977, -0.09301000088453293, -0.24084000289440155, -0.19755999743938446, -0.24084000289440155, -0.003266999963670969, -0.003266999963670969, -0.003266999963670969, -84.08338928222656, -0.24084000289440155, -0.15439000725746155, -0.3424754738807678, -3.6833300590515137, -0.09838342666625977, -0.24084000289440155, -0.24084000289440155, -3.6833300590515137, -0.24084000289440155, -3.6833300590515137, -0.18971264362335205, -0.29218798875808716], \"marker\": {\"color\": [411, 3, 880, 1012, 3, 3, 3, 3, 411, 411, 404, 411, 411, 411, 411, 253, 411, 411, 9498, 5665, 3, 411, 411, 5667, 411, 5667, 3863, 3], \"coloraxis\": \"coloraxis\"}, \"mode\": \"markers\", \"name\": \"\", \"showlegend\": false, \"subplot\": \"mapbox\", \"type\": \"scattermapbox\"}],\n",
       "                        {\"coloraxis\": {\"colorbar\": {\"title\": {\"text\": \"followers_count\"}}, \"colorscale\": [[0.0, \"#000000\"], [0.0625, \"#001f4d\"], [0.125, \"#003786\"], [0.1875, \"#0e58a8\"], [0.25, \"#217eb8\"], [0.3125, \"#30a4ca\"], [0.375, \"#54c8df\"], [0.4375, \"#9be4ef\"], [0.5, \"#e1e9d1\"], [0.5625, \"#f3d573\"], [0.625, \"#e7b000\"], [0.6875, \"#da8200\"], [0.75, \"#c65400\"], [0.8125, \"#ac2301\"], [0.875, \"#820000\"], [0.9375, \"#4c0000\"], [1.0, \"#000000\"]]}, \"height\": 600, \"legend\": {\"tracegroupgap\": 0}, \"mapbox\": {\"center\": {\"lat\": 49.781006131853374, \"lon\": -3.543724585041803}, \"domain\": {\"x\": [0.0, 1.0], \"y\": [0.0, 1.0]}, \"style\": \"carto-positron\", \"zoom\": 9.5}, \"margin\": {\"b\": 0, \"l\": 0, \"r\": 0, \"t\": 0}, \"template\": {\"data\": {\"bar\": [{\"error_x\": {\"color\": \"#2a3f5f\"}, \"error_y\": {\"color\": \"#2a3f5f\"}, \"marker\": {\"line\": {\"color\": \"#E5ECF6\", \"width\": 0.5}}, \"type\": \"bar\"}], \"barpolar\": [{\"marker\": {\"line\": {\"color\": \"#E5ECF6\", \"width\": 0.5}}, \"type\": \"barpolar\"}], \"carpet\": [{\"aaxis\": {\"endlinecolor\": \"#2a3f5f\", \"gridcolor\": \"white\", \"linecolor\": \"white\", \"minorgridcolor\": \"white\", \"startlinecolor\": \"#2a3f5f\"}, \"baxis\": {\"endlinecolor\": \"#2a3f5f\", \"gridcolor\": \"white\", \"linecolor\": \"white\", \"minorgridcolor\": \"white\", \"startlinecolor\": \"#2a3f5f\"}, \"type\": \"carpet\"}], \"choropleth\": [{\"colorbar\": {\"outlinewidth\": 0, \"ticks\": \"\"}, \"type\": \"choropleth\"}], \"contour\": [{\"colorbar\": {\"outlinewidth\": 0, \"ticks\": \"\"}, \"colorscale\": [[0.0, \"#0d0887\"], [0.1111111111111111, \"#46039f\"], [0.2222222222222222, \"#7201a8\"], [0.3333333333333333, \"#9c179e\"], [0.4444444444444444, \"#bd3786\"], [0.5555555555555556, \"#d8576b\"], [0.6666666666666666, \"#ed7953\"], [0.7777777777777778, \"#fb9f3a\"], [0.8888888888888888, \"#fdca26\"], [1.0, \"#f0f921\"]], \"type\": \"contour\"}], \"contourcarpet\": [{\"colorbar\": {\"outlinewidth\": 0, \"ticks\": \"\"}, \"type\": \"contourcarpet\"}], \"heatmap\": [{\"colorbar\": {\"outlinewidth\": 0, \"ticks\": \"\"}, \"colorscale\": [[0.0, \"#0d0887\"], [0.1111111111111111, \"#46039f\"], [0.2222222222222222, \"#7201a8\"], [0.3333333333333333, \"#9c179e\"], [0.4444444444444444, \"#bd3786\"], [0.5555555555555556, \"#d8576b\"], [0.6666666666666666, \"#ed7953\"], [0.7777777777777778, \"#fb9f3a\"], [0.8888888888888888, \"#fdca26\"], [1.0, \"#f0f921\"]], \"type\": \"heatmap\"}], \"heatmapgl\": [{\"colorbar\": {\"outlinewidth\": 0, \"ticks\": \"\"}, \"colorscale\": [[0.0, \"#0d0887\"], [0.1111111111111111, \"#46039f\"], [0.2222222222222222, \"#7201a8\"], [0.3333333333333333, \"#9c179e\"], [0.4444444444444444, \"#bd3786\"], [0.5555555555555556, \"#d8576b\"], [0.6666666666666666, \"#ed7953\"], [0.7777777777777778, \"#fb9f3a\"], [0.8888888888888888, \"#fdca26\"], [1.0, \"#f0f921\"]], \"type\": \"heatmapgl\"}], \"histogram\": [{\"marker\": {\"colorbar\": {\"outlinewidth\": 0, \"ticks\": \"\"}}, \"type\": \"histogram\"}], \"histogram2d\": [{\"colorbar\": {\"outlinewidth\": 0, \"ticks\": \"\"}, \"colorscale\": [[0.0, \"#0d0887\"], [0.1111111111111111, \"#46039f\"], [0.2222222222222222, \"#7201a8\"], [0.3333333333333333, \"#9c179e\"], [0.4444444444444444, \"#bd3786\"], [0.5555555555555556, \"#d8576b\"], [0.6666666666666666, \"#ed7953\"], [0.7777777777777778, \"#fb9f3a\"], [0.8888888888888888, \"#fdca26\"], [1.0, \"#f0f921\"]], \"type\": \"histogram2d\"}], \"histogram2dcontour\": [{\"colorbar\": {\"outlinewidth\": 0, \"ticks\": \"\"}, \"colorscale\": [[0.0, \"#0d0887\"], [0.1111111111111111, \"#46039f\"], [0.2222222222222222, \"#7201a8\"], [0.3333333333333333, \"#9c179e\"], [0.4444444444444444, \"#bd3786\"], [0.5555555555555556, \"#d8576b\"], [0.6666666666666666, \"#ed7953\"], [0.7777777777777778, \"#fb9f3a\"], [0.8888888888888888, \"#fdca26\"], [1.0, \"#f0f921\"]], \"type\": \"histogram2dcontour\"}], \"mesh3d\": [{\"colorbar\": {\"outlinewidth\": 0, \"ticks\": \"\"}, \"type\": \"mesh3d\"}], \"parcoords\": [{\"line\": {\"colorbar\": {\"outlinewidth\": 0, \"ticks\": \"\"}}, \"type\": \"parcoords\"}], \"pie\": [{\"automargin\": true, \"type\": \"pie\"}], \"scatter\": [{\"marker\": {\"colorbar\": {\"outlinewidth\": 0, \"ticks\": \"\"}}, \"type\": \"scatter\"}], \"scatter3d\": [{\"line\": {\"colorbar\": {\"outlinewidth\": 0, \"ticks\": \"\"}}, \"marker\": {\"colorbar\": {\"outlinewidth\": 0, \"ticks\": \"\"}}, \"type\": \"scatter3d\"}], \"scattercarpet\": [{\"marker\": {\"colorbar\": {\"outlinewidth\": 0, \"ticks\": \"\"}}, \"type\": \"scattercarpet\"}], \"scattergeo\": [{\"marker\": {\"colorbar\": {\"outlinewidth\": 0, \"ticks\": \"\"}}, \"type\": \"scattergeo\"}], \"scattergl\": [{\"marker\": {\"colorbar\": {\"outlinewidth\": 0, \"ticks\": \"\"}}, \"type\": \"scattergl\"}], \"scattermapbox\": [{\"marker\": {\"colorbar\": {\"outlinewidth\": 0, \"ticks\": \"\"}}, \"type\": \"scattermapbox\"}], \"scatterpolar\": [{\"marker\": {\"colorbar\": {\"outlinewidth\": 0, \"ticks\": \"\"}}, \"type\": \"scatterpolar\"}], \"scatterpolargl\": [{\"marker\": {\"colorbar\": {\"outlinewidth\": 0, \"ticks\": \"\"}}, \"type\": \"scatterpolargl\"}], \"scatterternary\": [{\"marker\": {\"colorbar\": {\"outlinewidth\": 0, \"ticks\": \"\"}}, \"type\": \"scatterternary\"}], \"surface\": [{\"colorbar\": {\"outlinewidth\": 0, \"ticks\": \"\"}, \"colorscale\": [[0.0, \"#0d0887\"], [0.1111111111111111, \"#46039f\"], [0.2222222222222222, \"#7201a8\"], [0.3333333333333333, \"#9c179e\"], [0.4444444444444444, \"#bd3786\"], [0.5555555555555556, \"#d8576b\"], [0.6666666666666666, \"#ed7953\"], [0.7777777777777778, \"#fb9f3a\"], [0.8888888888888888, \"#fdca26\"], [1.0, \"#f0f921\"]], \"type\": \"surface\"}], \"table\": [{\"cells\": {\"fill\": {\"color\": \"#EBF0F8\"}, \"line\": {\"color\": \"white\"}}, \"header\": {\"fill\": {\"color\": \"#C8D4E3\"}, \"line\": {\"color\": \"white\"}}, \"type\": \"table\"}]}, \"layout\": {\"annotationdefaults\": {\"arrowcolor\": \"#2a3f5f\", \"arrowhead\": 0, \"arrowwidth\": 1}, \"coloraxis\": {\"colorbar\": {\"outlinewidth\": 0, \"ticks\": \"\"}}, \"colorscale\": {\"diverging\": [[0, \"#8e0152\"], [0.1, \"#c51b7d\"], [0.2, \"#de77ae\"], [0.3, \"#f1b6da\"], [0.4, \"#fde0ef\"], [0.5, \"#f7f7f7\"], [0.6, \"#e6f5d0\"], [0.7, \"#b8e186\"], [0.8, \"#7fbc41\"], [0.9, \"#4d9221\"], [1, \"#276419\"]], \"sequential\": [[0.0, \"#0d0887\"], [0.1111111111111111, \"#46039f\"], [0.2222222222222222, \"#7201a8\"], [0.3333333333333333, \"#9c179e\"], [0.4444444444444444, \"#bd3786\"], [0.5555555555555556, \"#d8576b\"], [0.6666666666666666, \"#ed7953\"], [0.7777777777777778, \"#fb9f3a\"], [0.8888888888888888, \"#fdca26\"], [1.0, \"#f0f921\"]], \"sequentialminus\": [[0.0, \"#0d0887\"], [0.1111111111111111, \"#46039f\"], [0.2222222222222222, \"#7201a8\"], [0.3333333333333333, \"#9c179e\"], [0.4444444444444444, \"#bd3786\"], [0.5555555555555556, \"#d8576b\"], [0.6666666666666666, \"#ed7953\"], [0.7777777777777778, \"#fb9f3a\"], [0.8888888888888888, \"#fdca26\"], [1.0, \"#f0f921\"]]}, \"colorway\": [\"#636efa\", \"#EF553B\", \"#00cc96\", \"#ab63fa\", \"#FFA15A\", \"#19d3f3\", \"#FF6692\", \"#B6E880\", \"#FF97FF\", \"#FECB52\"], \"font\": {\"color\": \"#2a3f5f\"}, \"geo\": {\"bgcolor\": \"white\", \"lakecolor\": \"white\", \"landcolor\": \"#E5ECF6\", \"showlakes\": true, \"showland\": true, \"subunitcolor\": \"white\"}, \"hoverlabel\": {\"align\": \"left\"}, \"hovermode\": \"closest\", \"mapbox\": {\"style\": \"light\"}, \"paper_bgcolor\": \"white\", \"plot_bgcolor\": \"#E5ECF6\", \"polar\": {\"angularaxis\": {\"gridcolor\": \"white\", \"linecolor\": \"white\", \"ticks\": \"\"}, \"bgcolor\": \"#E5ECF6\", \"radialaxis\": {\"gridcolor\": \"white\", \"linecolor\": \"white\", \"ticks\": \"\"}}, \"scene\": {\"xaxis\": {\"backgroundcolor\": \"#E5ECF6\", \"gridcolor\": \"white\", \"gridwidth\": 2, \"linecolor\": \"white\", \"showbackground\": true, \"ticks\": \"\", \"zerolinecolor\": \"white\"}, \"yaxis\": {\"backgroundcolor\": \"#E5ECF6\", \"gridcolor\": \"white\", \"gridwidth\": 2, \"linecolor\": \"white\", \"showbackground\": true, \"ticks\": \"\", \"zerolinecolor\": \"white\"}, \"zaxis\": {\"backgroundcolor\": \"#E5ECF6\", \"gridcolor\": \"white\", \"gridwidth\": 2, \"linecolor\": \"white\", \"showbackground\": true, \"ticks\": \"\", \"zerolinecolor\": \"white\"}}, \"shapedefaults\": {\"line\": {\"color\": \"#2a3f5f\"}}, \"ternary\": {\"aaxis\": {\"gridcolor\": \"white\", \"linecolor\": \"white\", \"ticks\": \"\"}, \"baxis\": {\"gridcolor\": \"white\", \"linecolor\": \"white\", \"ticks\": \"\"}, \"bgcolor\": \"#E5ECF6\", \"caxis\": {\"gridcolor\": \"white\", \"linecolor\": \"white\", \"ticks\": \"\"}}, \"title\": {\"x\": 0.05}, \"xaxis\": {\"automargin\": true, \"gridcolor\": \"white\", \"linecolor\": \"white\", \"ticks\": \"\", \"title\": {\"standoff\": 15}, \"zerolinecolor\": \"white\", \"zerolinewidth\": 2}, \"yaxis\": {\"automargin\": true, \"gridcolor\": \"white\", \"linecolor\": \"white\", \"ticks\": \"\", \"title\": {\"standoff\": 15}, \"zerolinecolor\": \"white\", \"zerolinewidth\": 2}}}},\n",
       "                        {\"responsive\": true}\n",
       "                    ).then(function(){\n",
       "                            \n",
       "var gd = document.getElementById('93e8abcc-2207-4ccb-9295-905f3a87e0d7');\n",
       "var x = new MutationObserver(function (mutations, observer) {{\n",
       "        var display = window.getComputedStyle(gd).display;\n",
       "        if (!display || display === 'none') {{\n",
       "            console.log([gd, 'removed!']);\n",
       "            Plotly.purge(gd);\n",
       "            observer.disconnect();\n",
       "        }}\n",
       "}});\n",
       "\n",
       "// Listen for the removal of the full notebook cells\n",
       "var notebookContainer = gd.closest('#notebook-container');\n",
       "if (notebookContainer) {{\n",
       "    x.observe(notebookContainer, {childList: true});\n",
       "}}\n",
       "\n",
       "// Listen for the clearing of the current output cell\n",
       "var outputEl = gd.closest('.output');\n",
       "if (outputEl) {{\n",
       "    x.observe(outputEl, {childList: true});\n",
       "}}\n",
       "\n",
       "                        })\n",
       "                };\n",
       "                });\n",
       "            </script>\n",
       "        </div>"
      ]
     },
     "metadata": {},
     "output_type": "display_data"
    }
   ],
   "source": [
    "import plotly.express as px\n",
    "\n",
    "fig = px.scatter_mapbox(lldd_pdf, lat=\"llat\", lon=\"llong\", color=\"followers_count\",\n",
    "                        color_continuous_scale=px.colors.cyclical.IceFire, zoom=9.5, height=600)\n",
    "fig.update_layout(\n",
    "    mapbox_style=\"carto-positron\"\n",
    ")\n",
    "fig.update_layout(margin={\"r\":0,\"t\":0,\"l\":0,\"b\":0})\n",
    "fig.show()"
   ]
  },
  {
   "cell_type": "code",
   "execution_count": 74,
   "metadata": {},
   "outputs": [],
   "source": [
    "token = \"pk.eyJ1IjoidGFsbGFtanIiLCJhIjoiY2thd3hxNnlxMDB0MzJzbWE3ZXVmb3p4cyJ9.3n6WNEqHSeZGAPPA47Fp1w\""
   ]
  },
  {
   "cell_type": "code",
   "execution_count": 99,
   "metadata": {},
   "outputs": [
    {
     "data": {
      "application/vnd.plotly.v1+json": {
       "config": {
        "plotlyServerURL": "https://plot.ly"
       },
       "data": [
        {
         "hovertemplate": "llat=%{lat}<br>llong=%{lon}<br>followers_count=%{marker.color}<extra></extra>",
         "lat": [
          51.51409912109375,
          51.51409912109375,
          51.474998474121094,
          51.51014709472656,
          51.36119079589844,
          51.456031799316406,
          40.400001525878906,
          40.400001525878906,
          40.400001525878906,
          51.50660705566406,
          51.51409912109375
         ],
         "legendgroup": "",
         "lon": [
          -0.10939999669790268,
          -0.10939999669790268,
          -0.22166666388511658,
          -0.09838342666625977,
          -0.19755999743938446,
          -0.3424754738807678,
          -3.6833300590515137,
          -3.6833300590515137,
          -3.6833300590515137,
          -0.1284027099609375,
          -0.10939999669790268
         ],
         "marker": {
          "color": [
           880,
           1012,
           3,
           3,
           404,
           9498,
           5665,
           5667,
           5667,
           588,
           1386
          ],
          "coloraxis": "coloraxis"
         },
         "mode": "markers",
         "name": "",
         "showlegend": false,
         "subplot": "mapbox",
         "type": "scattermapbox"
        }
       ],
       "layout": {
        "coloraxis": {
         "colorbar": {
          "title": {
           "text": "followers_count"
          }
         },
         "colorscale": [
          [
           0,
           "#0d0887"
          ],
          [
           0.1111111111111111,
           "#46039f"
          ],
          [
           0.2222222222222222,
           "#7201a8"
          ],
          [
           0.3333333333333333,
           "#9c179e"
          ],
          [
           0.4444444444444444,
           "#bd3786"
          ],
          [
           0.5555555555555556,
           "#d8576b"
          ],
          [
           0.6666666666666666,
           "#ed7953"
          ],
          [
           0.7777777777777778,
           "#fb9f3a"
          ],
          [
           0.8888888888888888,
           "#fdca26"
          ],
          [
           1,
           "#f0f921"
          ]
         ]
        },
        "height": 600,
        "legend": {
         "tracegroupgap": 0
        },
        "mapbox": {
         "accesstoken": "pk.eyJ1IjoidGFsbGFtanIiLCJhIjoiY2thd3hxNnlxMDB0MzJzbWE3ZXVmb3p4cyJ9.3n6WNEqHSeZGAPPA47Fp1w",
         "center": {
          "lat": 48.45920701460405,
          "lon": -1.124243494461883
         },
         "domain": {
          "x": [
           0,
           1
          ],
          "y": [
           0,
           1
          ]
         },
         "style": "dark",
         "zoom": 9.5
        },
        "margin": {
         "b": 0,
         "l": 0,
         "r": 0,
         "t": 0
        },
        "template": {
         "data": {
          "bar": [
           {
            "error_x": {
             "color": "#2a3f5f"
            },
            "error_y": {
             "color": "#2a3f5f"
            },
            "marker": {
             "line": {
              "color": "#E5ECF6",
              "width": 0.5
             }
            },
            "type": "bar"
           }
          ],
          "barpolar": [
           {
            "marker": {
             "line": {
              "color": "#E5ECF6",
              "width": 0.5
             }
            },
            "type": "barpolar"
           }
          ],
          "carpet": [
           {
            "aaxis": {
             "endlinecolor": "#2a3f5f",
             "gridcolor": "white",
             "linecolor": "white",
             "minorgridcolor": "white",
             "startlinecolor": "#2a3f5f"
            },
            "baxis": {
             "endlinecolor": "#2a3f5f",
             "gridcolor": "white",
             "linecolor": "white",
             "minorgridcolor": "white",
             "startlinecolor": "#2a3f5f"
            },
            "type": "carpet"
           }
          ],
          "choropleth": [
           {
            "colorbar": {
             "outlinewidth": 0,
             "ticks": ""
            },
            "type": "choropleth"
           }
          ],
          "contour": [
           {
            "colorbar": {
             "outlinewidth": 0,
             "ticks": ""
            },
            "colorscale": [
             [
              0,
              "#0d0887"
             ],
             [
              0.1111111111111111,
              "#46039f"
             ],
             [
              0.2222222222222222,
              "#7201a8"
             ],
             [
              0.3333333333333333,
              "#9c179e"
             ],
             [
              0.4444444444444444,
              "#bd3786"
             ],
             [
              0.5555555555555556,
              "#d8576b"
             ],
             [
              0.6666666666666666,
              "#ed7953"
             ],
             [
              0.7777777777777778,
              "#fb9f3a"
             ],
             [
              0.8888888888888888,
              "#fdca26"
             ],
             [
              1,
              "#f0f921"
             ]
            ],
            "type": "contour"
           }
          ],
          "contourcarpet": [
           {
            "colorbar": {
             "outlinewidth": 0,
             "ticks": ""
            },
            "type": "contourcarpet"
           }
          ],
          "heatmap": [
           {
            "colorbar": {
             "outlinewidth": 0,
             "ticks": ""
            },
            "colorscale": [
             [
              0,
              "#0d0887"
             ],
             [
              0.1111111111111111,
              "#46039f"
             ],
             [
              0.2222222222222222,
              "#7201a8"
             ],
             [
              0.3333333333333333,
              "#9c179e"
             ],
             [
              0.4444444444444444,
              "#bd3786"
             ],
             [
              0.5555555555555556,
              "#d8576b"
             ],
             [
              0.6666666666666666,
              "#ed7953"
             ],
             [
              0.7777777777777778,
              "#fb9f3a"
             ],
             [
              0.8888888888888888,
              "#fdca26"
             ],
             [
              1,
              "#f0f921"
             ]
            ],
            "type": "heatmap"
           }
          ],
          "heatmapgl": [
           {
            "colorbar": {
             "outlinewidth": 0,
             "ticks": ""
            },
            "colorscale": [
             [
              0,
              "#0d0887"
             ],
             [
              0.1111111111111111,
              "#46039f"
             ],
             [
              0.2222222222222222,
              "#7201a8"
             ],
             [
              0.3333333333333333,
              "#9c179e"
             ],
             [
              0.4444444444444444,
              "#bd3786"
             ],
             [
              0.5555555555555556,
              "#d8576b"
             ],
             [
              0.6666666666666666,
              "#ed7953"
             ],
             [
              0.7777777777777778,
              "#fb9f3a"
             ],
             [
              0.8888888888888888,
              "#fdca26"
             ],
             [
              1,
              "#f0f921"
             ]
            ],
            "type": "heatmapgl"
           }
          ],
          "histogram": [
           {
            "marker": {
             "colorbar": {
              "outlinewidth": 0,
              "ticks": ""
             }
            },
            "type": "histogram"
           }
          ],
          "histogram2d": [
           {
            "colorbar": {
             "outlinewidth": 0,
             "ticks": ""
            },
            "colorscale": [
             [
              0,
              "#0d0887"
             ],
             [
              0.1111111111111111,
              "#46039f"
             ],
             [
              0.2222222222222222,
              "#7201a8"
             ],
             [
              0.3333333333333333,
              "#9c179e"
             ],
             [
              0.4444444444444444,
              "#bd3786"
             ],
             [
              0.5555555555555556,
              "#d8576b"
             ],
             [
              0.6666666666666666,
              "#ed7953"
             ],
             [
              0.7777777777777778,
              "#fb9f3a"
             ],
             [
              0.8888888888888888,
              "#fdca26"
             ],
             [
              1,
              "#f0f921"
             ]
            ],
            "type": "histogram2d"
           }
          ],
          "histogram2dcontour": [
           {
            "colorbar": {
             "outlinewidth": 0,
             "ticks": ""
            },
            "colorscale": [
             [
              0,
              "#0d0887"
             ],
             [
              0.1111111111111111,
              "#46039f"
             ],
             [
              0.2222222222222222,
              "#7201a8"
             ],
             [
              0.3333333333333333,
              "#9c179e"
             ],
             [
              0.4444444444444444,
              "#bd3786"
             ],
             [
              0.5555555555555556,
              "#d8576b"
             ],
             [
              0.6666666666666666,
              "#ed7953"
             ],
             [
              0.7777777777777778,
              "#fb9f3a"
             ],
             [
              0.8888888888888888,
              "#fdca26"
             ],
             [
              1,
              "#f0f921"
             ]
            ],
            "type": "histogram2dcontour"
           }
          ],
          "mesh3d": [
           {
            "colorbar": {
             "outlinewidth": 0,
             "ticks": ""
            },
            "type": "mesh3d"
           }
          ],
          "parcoords": [
           {
            "line": {
             "colorbar": {
              "outlinewidth": 0,
              "ticks": ""
             }
            },
            "type": "parcoords"
           }
          ],
          "pie": [
           {
            "automargin": true,
            "type": "pie"
           }
          ],
          "scatter": [
           {
            "marker": {
             "colorbar": {
              "outlinewidth": 0,
              "ticks": ""
             }
            },
            "type": "scatter"
           }
          ],
          "scatter3d": [
           {
            "line": {
             "colorbar": {
              "outlinewidth": 0,
              "ticks": ""
             }
            },
            "marker": {
             "colorbar": {
              "outlinewidth": 0,
              "ticks": ""
             }
            },
            "type": "scatter3d"
           }
          ],
          "scattercarpet": [
           {
            "marker": {
             "colorbar": {
              "outlinewidth": 0,
              "ticks": ""
             }
            },
            "type": "scattercarpet"
           }
          ],
          "scattergeo": [
           {
            "marker": {
             "colorbar": {
              "outlinewidth": 0,
              "ticks": ""
             }
            },
            "type": "scattergeo"
           }
          ],
          "scattergl": [
           {
            "marker": {
             "colorbar": {
              "outlinewidth": 0,
              "ticks": ""
             }
            },
            "type": "scattergl"
           }
          ],
          "scattermapbox": [
           {
            "marker": {
             "colorbar": {
              "outlinewidth": 0,
              "ticks": ""
             }
            },
            "type": "scattermapbox"
           }
          ],
          "scatterpolar": [
           {
            "marker": {
             "colorbar": {
              "outlinewidth": 0,
              "ticks": ""
             }
            },
            "type": "scatterpolar"
           }
          ],
          "scatterpolargl": [
           {
            "marker": {
             "colorbar": {
              "outlinewidth": 0,
              "ticks": ""
             }
            },
            "type": "scatterpolargl"
           }
          ],
          "scatterternary": [
           {
            "marker": {
             "colorbar": {
              "outlinewidth": 0,
              "ticks": ""
             }
            },
            "type": "scatterternary"
           }
          ],
          "surface": [
           {
            "colorbar": {
             "outlinewidth": 0,
             "ticks": ""
            },
            "colorscale": [
             [
              0,
              "#0d0887"
             ],
             [
              0.1111111111111111,
              "#46039f"
             ],
             [
              0.2222222222222222,
              "#7201a8"
             ],
             [
              0.3333333333333333,
              "#9c179e"
             ],
             [
              0.4444444444444444,
              "#bd3786"
             ],
             [
              0.5555555555555556,
              "#d8576b"
             ],
             [
              0.6666666666666666,
              "#ed7953"
             ],
             [
              0.7777777777777778,
              "#fb9f3a"
             ],
             [
              0.8888888888888888,
              "#fdca26"
             ],
             [
              1,
              "#f0f921"
             ]
            ],
            "type": "surface"
           }
          ],
          "table": [
           {
            "cells": {
             "fill": {
              "color": "#EBF0F8"
             },
             "line": {
              "color": "white"
             }
            },
            "header": {
             "fill": {
              "color": "#C8D4E3"
             },
             "line": {
              "color": "white"
             }
            },
            "type": "table"
           }
          ]
         },
         "layout": {
          "annotationdefaults": {
           "arrowcolor": "#2a3f5f",
           "arrowhead": 0,
           "arrowwidth": 1
          },
          "coloraxis": {
           "colorbar": {
            "outlinewidth": 0,
            "ticks": ""
           }
          },
          "colorscale": {
           "diverging": [
            [
             0,
             "#8e0152"
            ],
            [
             0.1,
             "#c51b7d"
            ],
            [
             0.2,
             "#de77ae"
            ],
            [
             0.3,
             "#f1b6da"
            ],
            [
             0.4,
             "#fde0ef"
            ],
            [
             0.5,
             "#f7f7f7"
            ],
            [
             0.6,
             "#e6f5d0"
            ],
            [
             0.7,
             "#b8e186"
            ],
            [
             0.8,
             "#7fbc41"
            ],
            [
             0.9,
             "#4d9221"
            ],
            [
             1,
             "#276419"
            ]
           ],
           "sequential": [
            [
             0,
             "#0d0887"
            ],
            [
             0.1111111111111111,
             "#46039f"
            ],
            [
             0.2222222222222222,
             "#7201a8"
            ],
            [
             0.3333333333333333,
             "#9c179e"
            ],
            [
             0.4444444444444444,
             "#bd3786"
            ],
            [
             0.5555555555555556,
             "#d8576b"
            ],
            [
             0.6666666666666666,
             "#ed7953"
            ],
            [
             0.7777777777777778,
             "#fb9f3a"
            ],
            [
             0.8888888888888888,
             "#fdca26"
            ],
            [
             1,
             "#f0f921"
            ]
           ],
           "sequentialminus": [
            [
             0,
             "#0d0887"
            ],
            [
             0.1111111111111111,
             "#46039f"
            ],
            [
             0.2222222222222222,
             "#7201a8"
            ],
            [
             0.3333333333333333,
             "#9c179e"
            ],
            [
             0.4444444444444444,
             "#bd3786"
            ],
            [
             0.5555555555555556,
             "#d8576b"
            ],
            [
             0.6666666666666666,
             "#ed7953"
            ],
            [
             0.7777777777777778,
             "#fb9f3a"
            ],
            [
             0.8888888888888888,
             "#fdca26"
            ],
            [
             1,
             "#f0f921"
            ]
           ]
          },
          "colorway": [
           "#636efa",
           "#EF553B",
           "#00cc96",
           "#ab63fa",
           "#FFA15A",
           "#19d3f3",
           "#FF6692",
           "#B6E880",
           "#FF97FF",
           "#FECB52"
          ],
          "font": {
           "color": "#2a3f5f"
          },
          "geo": {
           "bgcolor": "white",
           "lakecolor": "white",
           "landcolor": "#E5ECF6",
           "showlakes": true,
           "showland": true,
           "subunitcolor": "white"
          },
          "hoverlabel": {
           "align": "left"
          },
          "hovermode": "closest",
          "mapbox": {
           "style": "light"
          },
          "paper_bgcolor": "white",
          "plot_bgcolor": "#E5ECF6",
          "polar": {
           "angularaxis": {
            "gridcolor": "white",
            "linecolor": "white",
            "ticks": ""
           },
           "bgcolor": "#E5ECF6",
           "radialaxis": {
            "gridcolor": "white",
            "linecolor": "white",
            "ticks": ""
           }
          },
          "scene": {
           "xaxis": {
            "backgroundcolor": "#E5ECF6",
            "gridcolor": "white",
            "gridwidth": 2,
            "linecolor": "white",
            "showbackground": true,
            "ticks": "",
            "zerolinecolor": "white"
           },
           "yaxis": {
            "backgroundcolor": "#E5ECF6",
            "gridcolor": "white",
            "gridwidth": 2,
            "linecolor": "white",
            "showbackground": true,
            "ticks": "",
            "zerolinecolor": "white"
           },
           "zaxis": {
            "backgroundcolor": "#E5ECF6",
            "gridcolor": "white",
            "gridwidth": 2,
            "linecolor": "white",
            "showbackground": true,
            "ticks": "",
            "zerolinecolor": "white"
           }
          },
          "shapedefaults": {
           "line": {
            "color": "#2a3f5f"
           }
          },
          "ternary": {
           "aaxis": {
            "gridcolor": "white",
            "linecolor": "white",
            "ticks": ""
           },
           "baxis": {
            "gridcolor": "white",
            "linecolor": "white",
            "ticks": ""
           },
           "bgcolor": "#E5ECF6",
           "caxis": {
            "gridcolor": "white",
            "linecolor": "white",
            "ticks": ""
           }
          },
          "title": {
           "x": 0.05
          },
          "xaxis": {
           "automargin": true,
           "gridcolor": "white",
           "linecolor": "white",
           "ticks": "",
           "title": {
            "standoff": 15
           },
           "zerolinecolor": "white",
           "zerolinewidth": 2
          },
          "yaxis": {
           "automargin": true,
           "gridcolor": "white",
           "linecolor": "white",
           "ticks": "",
           "title": {
            "standoff": 15
           },
           "zerolinecolor": "white",
           "zerolinewidth": 2
          }
         }
        }
       }
      },
      "text/html": [
       "<div>\n",
       "        \n",
       "        \n",
       "            <div id=\"6adb1d3b-c9ce-4229-9b3c-53604115115a\" class=\"plotly-graph-div\" style=\"height:600px; width:100%;\"></div>\n",
       "            <script type=\"text/javascript\">\n",
       "                require([\"plotly\"], function(Plotly) {\n",
       "                    window.PLOTLYENV=window.PLOTLYENV || {};\n",
       "                    \n",
       "                if (document.getElementById(\"6adb1d3b-c9ce-4229-9b3c-53604115115a\")) {\n",
       "                    Plotly.newPlot(\n",
       "                        '6adb1d3b-c9ce-4229-9b3c-53604115115a',\n",
       "                        [{\"hovertemplate\": \"llat=%{lat}<br>llong=%{lon}<br>followers_count=%{marker.color}<extra></extra>\", \"lat\": [51.51409912109375, 51.51409912109375, 51.474998474121094, 51.51014709472656, 51.36119079589844, 51.456031799316406, 40.400001525878906, 40.400001525878906, 40.400001525878906, 51.50660705566406, 51.51409912109375], \"legendgroup\": \"\", \"lon\": [-0.10939999669790268, -0.10939999669790268, -0.22166666388511658, -0.09838342666625977, -0.19755999743938446, -0.3424754738807678, -3.6833300590515137, -3.6833300590515137, -3.6833300590515137, -0.1284027099609375, -0.10939999669790268], \"marker\": {\"color\": [880, 1012, 3, 3, 404, 9498, 5665, 5667, 5667, 588, 1386], \"coloraxis\": \"coloraxis\"}, \"mode\": \"markers\", \"name\": \"\", \"showlegend\": false, \"subplot\": \"mapbox\", \"type\": \"scattermapbox\"}],\n",
       "                        {\"coloraxis\": {\"colorbar\": {\"title\": {\"text\": \"followers_count\"}}, \"colorscale\": [[0.0, \"#0d0887\"], [0.1111111111111111, \"#46039f\"], [0.2222222222222222, \"#7201a8\"], [0.3333333333333333, \"#9c179e\"], [0.4444444444444444, \"#bd3786\"], [0.5555555555555556, \"#d8576b\"], [0.6666666666666666, \"#ed7953\"], [0.7777777777777778, \"#fb9f3a\"], [0.8888888888888888, \"#fdca26\"], [1.0, \"#f0f921\"]]}, \"height\": 600, \"legend\": {\"tracegroupgap\": 0}, \"mapbox\": {\"accesstoken\": \"pk.eyJ1IjoidGFsbGFtanIiLCJhIjoiY2thd3hxNnlxMDB0MzJzbWE3ZXVmb3p4cyJ9.3n6WNEqHSeZGAPPA47Fp1w\", \"center\": {\"lat\": 48.45920701460405, \"lon\": -1.124243494461883}, \"domain\": {\"x\": [0.0, 1.0], \"y\": [0.0, 1.0]}, \"style\": \"dark\", \"zoom\": 9.5}, \"margin\": {\"b\": 0, \"l\": 0, \"r\": 0, \"t\": 0}, \"template\": {\"data\": {\"bar\": [{\"error_x\": {\"color\": \"#2a3f5f\"}, \"error_y\": {\"color\": \"#2a3f5f\"}, \"marker\": {\"line\": {\"color\": \"#E5ECF6\", \"width\": 0.5}}, \"type\": \"bar\"}], \"barpolar\": [{\"marker\": {\"line\": {\"color\": \"#E5ECF6\", \"width\": 0.5}}, \"type\": \"barpolar\"}], \"carpet\": [{\"aaxis\": {\"endlinecolor\": \"#2a3f5f\", \"gridcolor\": \"white\", \"linecolor\": \"white\", \"minorgridcolor\": \"white\", \"startlinecolor\": \"#2a3f5f\"}, \"baxis\": {\"endlinecolor\": \"#2a3f5f\", \"gridcolor\": \"white\", \"linecolor\": \"white\", \"minorgridcolor\": \"white\", \"startlinecolor\": \"#2a3f5f\"}, \"type\": \"carpet\"}], \"choropleth\": [{\"colorbar\": {\"outlinewidth\": 0, \"ticks\": \"\"}, \"type\": \"choropleth\"}], \"contour\": [{\"colorbar\": {\"outlinewidth\": 0, \"ticks\": \"\"}, \"colorscale\": [[0.0, \"#0d0887\"], [0.1111111111111111, \"#46039f\"], [0.2222222222222222, \"#7201a8\"], [0.3333333333333333, \"#9c179e\"], [0.4444444444444444, \"#bd3786\"], [0.5555555555555556, \"#d8576b\"], [0.6666666666666666, \"#ed7953\"], [0.7777777777777778, \"#fb9f3a\"], [0.8888888888888888, \"#fdca26\"], [1.0, \"#f0f921\"]], \"type\": \"contour\"}], \"contourcarpet\": [{\"colorbar\": {\"outlinewidth\": 0, \"ticks\": \"\"}, \"type\": \"contourcarpet\"}], \"heatmap\": [{\"colorbar\": {\"outlinewidth\": 0, \"ticks\": \"\"}, \"colorscale\": [[0.0, \"#0d0887\"], [0.1111111111111111, \"#46039f\"], [0.2222222222222222, \"#7201a8\"], [0.3333333333333333, \"#9c179e\"], [0.4444444444444444, \"#bd3786\"], [0.5555555555555556, \"#d8576b\"], [0.6666666666666666, \"#ed7953\"], [0.7777777777777778, \"#fb9f3a\"], [0.8888888888888888, \"#fdca26\"], [1.0, \"#f0f921\"]], \"type\": \"heatmap\"}], \"heatmapgl\": [{\"colorbar\": {\"outlinewidth\": 0, \"ticks\": \"\"}, \"colorscale\": [[0.0, \"#0d0887\"], [0.1111111111111111, \"#46039f\"], [0.2222222222222222, \"#7201a8\"], [0.3333333333333333, \"#9c179e\"], [0.4444444444444444, \"#bd3786\"], [0.5555555555555556, \"#d8576b\"], [0.6666666666666666, \"#ed7953\"], [0.7777777777777778, \"#fb9f3a\"], [0.8888888888888888, \"#fdca26\"], [1.0, \"#f0f921\"]], \"type\": \"heatmapgl\"}], \"histogram\": [{\"marker\": {\"colorbar\": {\"outlinewidth\": 0, \"ticks\": \"\"}}, \"type\": \"histogram\"}], \"histogram2d\": [{\"colorbar\": {\"outlinewidth\": 0, \"ticks\": \"\"}, \"colorscale\": [[0.0, \"#0d0887\"], [0.1111111111111111, \"#46039f\"], [0.2222222222222222, \"#7201a8\"], [0.3333333333333333, \"#9c179e\"], [0.4444444444444444, \"#bd3786\"], [0.5555555555555556, \"#d8576b\"], [0.6666666666666666, \"#ed7953\"], [0.7777777777777778, \"#fb9f3a\"], [0.8888888888888888, \"#fdca26\"], [1.0, \"#f0f921\"]], \"type\": \"histogram2d\"}], \"histogram2dcontour\": [{\"colorbar\": {\"outlinewidth\": 0, \"ticks\": \"\"}, \"colorscale\": [[0.0, \"#0d0887\"], [0.1111111111111111, \"#46039f\"], [0.2222222222222222, \"#7201a8\"], [0.3333333333333333, \"#9c179e\"], [0.4444444444444444, \"#bd3786\"], [0.5555555555555556, \"#d8576b\"], [0.6666666666666666, \"#ed7953\"], [0.7777777777777778, \"#fb9f3a\"], [0.8888888888888888, \"#fdca26\"], [1.0, \"#f0f921\"]], \"type\": \"histogram2dcontour\"}], \"mesh3d\": [{\"colorbar\": {\"outlinewidth\": 0, \"ticks\": \"\"}, \"type\": \"mesh3d\"}], \"parcoords\": [{\"line\": {\"colorbar\": {\"outlinewidth\": 0, \"ticks\": \"\"}}, \"type\": \"parcoords\"}], \"pie\": [{\"automargin\": true, \"type\": \"pie\"}], \"scatter\": [{\"marker\": {\"colorbar\": {\"outlinewidth\": 0, \"ticks\": \"\"}}, \"type\": \"scatter\"}], \"scatter3d\": [{\"line\": {\"colorbar\": {\"outlinewidth\": 0, \"ticks\": \"\"}}, \"marker\": {\"colorbar\": {\"outlinewidth\": 0, \"ticks\": \"\"}}, \"type\": \"scatter3d\"}], \"scattercarpet\": [{\"marker\": {\"colorbar\": {\"outlinewidth\": 0, \"ticks\": \"\"}}, \"type\": \"scattercarpet\"}], \"scattergeo\": [{\"marker\": {\"colorbar\": {\"outlinewidth\": 0, \"ticks\": \"\"}}, \"type\": \"scattergeo\"}], \"scattergl\": [{\"marker\": {\"colorbar\": {\"outlinewidth\": 0, \"ticks\": \"\"}}, \"type\": \"scattergl\"}], \"scattermapbox\": [{\"marker\": {\"colorbar\": {\"outlinewidth\": 0, \"ticks\": \"\"}}, \"type\": \"scattermapbox\"}], \"scatterpolar\": [{\"marker\": {\"colorbar\": {\"outlinewidth\": 0, \"ticks\": \"\"}}, \"type\": \"scatterpolar\"}], \"scatterpolargl\": [{\"marker\": {\"colorbar\": {\"outlinewidth\": 0, \"ticks\": \"\"}}, \"type\": \"scatterpolargl\"}], \"scatterternary\": [{\"marker\": {\"colorbar\": {\"outlinewidth\": 0, \"ticks\": \"\"}}, \"type\": \"scatterternary\"}], \"surface\": [{\"colorbar\": {\"outlinewidth\": 0, \"ticks\": \"\"}, \"colorscale\": [[0.0, \"#0d0887\"], [0.1111111111111111, \"#46039f\"], [0.2222222222222222, \"#7201a8\"], [0.3333333333333333, \"#9c179e\"], [0.4444444444444444, \"#bd3786\"], [0.5555555555555556, \"#d8576b\"], [0.6666666666666666, \"#ed7953\"], [0.7777777777777778, \"#fb9f3a\"], [0.8888888888888888, \"#fdca26\"], [1.0, \"#f0f921\"]], \"type\": \"surface\"}], \"table\": [{\"cells\": {\"fill\": {\"color\": \"#EBF0F8\"}, \"line\": {\"color\": \"white\"}}, \"header\": {\"fill\": {\"color\": \"#C8D4E3\"}, \"line\": {\"color\": \"white\"}}, \"type\": \"table\"}]}, \"layout\": {\"annotationdefaults\": {\"arrowcolor\": \"#2a3f5f\", \"arrowhead\": 0, \"arrowwidth\": 1}, \"coloraxis\": {\"colorbar\": {\"outlinewidth\": 0, \"ticks\": \"\"}}, \"colorscale\": {\"diverging\": [[0, \"#8e0152\"], [0.1, \"#c51b7d\"], [0.2, \"#de77ae\"], [0.3, \"#f1b6da\"], [0.4, \"#fde0ef\"], [0.5, \"#f7f7f7\"], [0.6, \"#e6f5d0\"], [0.7, \"#b8e186\"], [0.8, \"#7fbc41\"], [0.9, \"#4d9221\"], [1, \"#276419\"]], \"sequential\": [[0.0, \"#0d0887\"], [0.1111111111111111, \"#46039f\"], [0.2222222222222222, \"#7201a8\"], [0.3333333333333333, \"#9c179e\"], [0.4444444444444444, \"#bd3786\"], [0.5555555555555556, \"#d8576b\"], [0.6666666666666666, \"#ed7953\"], [0.7777777777777778, \"#fb9f3a\"], [0.8888888888888888, \"#fdca26\"], [1.0, \"#f0f921\"]], \"sequentialminus\": [[0.0, \"#0d0887\"], [0.1111111111111111, \"#46039f\"], [0.2222222222222222, \"#7201a8\"], [0.3333333333333333, \"#9c179e\"], [0.4444444444444444, \"#bd3786\"], [0.5555555555555556, \"#d8576b\"], [0.6666666666666666, \"#ed7953\"], [0.7777777777777778, \"#fb9f3a\"], [0.8888888888888888, \"#fdca26\"], [1.0, \"#f0f921\"]]}, \"colorway\": [\"#636efa\", \"#EF553B\", \"#00cc96\", \"#ab63fa\", \"#FFA15A\", \"#19d3f3\", \"#FF6692\", \"#B6E880\", \"#FF97FF\", \"#FECB52\"], \"font\": {\"color\": \"#2a3f5f\"}, \"geo\": {\"bgcolor\": \"white\", \"lakecolor\": \"white\", \"landcolor\": \"#E5ECF6\", \"showlakes\": true, \"showland\": true, \"subunitcolor\": \"white\"}, \"hoverlabel\": {\"align\": \"left\"}, \"hovermode\": \"closest\", \"mapbox\": {\"style\": \"light\"}, \"paper_bgcolor\": \"white\", \"plot_bgcolor\": \"#E5ECF6\", \"polar\": {\"angularaxis\": {\"gridcolor\": \"white\", \"linecolor\": \"white\", \"ticks\": \"\"}, \"bgcolor\": \"#E5ECF6\", \"radialaxis\": {\"gridcolor\": \"white\", \"linecolor\": \"white\", \"ticks\": \"\"}}, \"scene\": {\"xaxis\": {\"backgroundcolor\": \"#E5ECF6\", \"gridcolor\": \"white\", \"gridwidth\": 2, \"linecolor\": \"white\", \"showbackground\": true, \"ticks\": \"\", \"zerolinecolor\": \"white\"}, \"yaxis\": {\"backgroundcolor\": \"#E5ECF6\", \"gridcolor\": \"white\", \"gridwidth\": 2, \"linecolor\": \"white\", \"showbackground\": true, \"ticks\": \"\", \"zerolinecolor\": \"white\"}, \"zaxis\": {\"backgroundcolor\": \"#E5ECF6\", \"gridcolor\": \"white\", \"gridwidth\": 2, \"linecolor\": \"white\", \"showbackground\": true, \"ticks\": \"\", \"zerolinecolor\": \"white\"}}, \"shapedefaults\": {\"line\": {\"color\": \"#2a3f5f\"}}, \"ternary\": {\"aaxis\": {\"gridcolor\": \"white\", \"linecolor\": \"white\", \"ticks\": \"\"}, \"baxis\": {\"gridcolor\": \"white\", \"linecolor\": \"white\", \"ticks\": \"\"}, \"bgcolor\": \"#E5ECF6\", \"caxis\": {\"gridcolor\": \"white\", \"linecolor\": \"white\", \"ticks\": \"\"}}, \"title\": {\"x\": 0.05}, \"xaxis\": {\"automargin\": true, \"gridcolor\": \"white\", \"linecolor\": \"white\", \"ticks\": \"\", \"title\": {\"standoff\": 15}, \"zerolinecolor\": \"white\", \"zerolinewidth\": 2}, \"yaxis\": {\"automargin\": true, \"gridcolor\": \"white\", \"linecolor\": \"white\", \"ticks\": \"\", \"title\": {\"standoff\": 15}, \"zerolinecolor\": \"white\", \"zerolinewidth\": 2}}}},\n",
       "                        {\"responsive\": true}\n",
       "                    ).then(function(){\n",
       "                            \n",
       "var gd = document.getElementById('6adb1d3b-c9ce-4229-9b3c-53604115115a');\n",
       "var x = new MutationObserver(function (mutations, observer) {{\n",
       "        var display = window.getComputedStyle(gd).display;\n",
       "        if (!display || display === 'none') {{\n",
       "            console.log([gd, 'removed!']);\n",
       "            Plotly.purge(gd);\n",
       "            observer.disconnect();\n",
       "        }}\n",
       "}});\n",
       "\n",
       "// Listen for the removal of the full notebook cells\n",
       "var notebookContainer = gd.closest('#notebook-container');\n",
       "if (notebookContainer) {{\n",
       "    x.observe(notebookContainer, {childList: true});\n",
       "}}\n",
       "\n",
       "// Listen for the clearing of the current output cell\n",
       "var outputEl = gd.closest('.output');\n",
       "if (outputEl) {{\n",
       "    x.observe(outputEl, {childList: true});\n",
       "}}\n",
       "\n",
       "                        })\n",
       "                };\n",
       "                });\n",
       "            </script>\n",
       "        </div>"
      ]
     },
     "metadata": {},
     "output_type": "display_data"
    }
   ],
   "source": [
    "import plotly.express as px\n",
    "\n",
    "fig = px.scatter_mapbox(lldd_pdf, lat=\"llat\", lon=\"llong\", color=\"followers_count\",\n",
    "                        color_discrete_sequence=[\"fuchsia\"], zoom=9.5, height=600)\n",
    "fig.update_layout(mapbox_style=\"dark\", mapbox_accesstoken=token)\n",
    "fig.update_layout(margin={\"r\":0,\"t\":0,\"l\":0,\"b\":0})\n",
    "fig.show()"
   ]
  },
  {
   "cell_type": "code",
   "execution_count": null,
   "metadata": {},
   "outputs": [],
   "source": []
  },
  {
   "cell_type": "code",
   "execution_count": null,
   "metadata": {},
   "outputs": [],
   "source": []
  },
  {
   "cell_type": "code",
   "execution_count": null,
   "metadata": {},
   "outputs": [],
   "source": [
    "# res.select(\"tweets.created_at\", \"tweets.coordinates\", \"tweets.user.followers_count\") \\\n",
    "#                 .where(col(\"tweets.coordinates\").isNull()) \\\n",
    "#                 .where(col(\"tweets.user.followers_count\") > 100000) \\\n",
    "#                 .show()"
   ]
  },
  {
   "cell_type": "code",
   "execution_count": null,
   "metadata": {},
   "outputs": [],
   "source": [
    "# res.select(\"tweets.created_at\", \"tweets.place.bounding_box.coordinates\", \"tweets.user.followers_count\") \\\n",
    "#                 .where(col(\"tweets.place.bounding_box.coordinates\").isNotNull()) \\\n",
    "#                 .show()"
   ]
  },
  {
   "cell_type": "code",
   "execution_count": 42,
   "metadata": {},
   "outputs": [
    {
     "name": "stdout",
     "output_type": "stream",
     "text": [
      "+--------------------+------------------------+\n",
      "|              tweets|follower_count_times_two|\n",
      "+--------------------+------------------------+\n",
      "|[,, Mon Jun 01 14...|                    4586|\n",
      "|[,, Mon Jun 01 14...|                      74|\n",
      "|[,, Mon Jun 01 14...|                    2514|\n",
      "|[,, Mon Jun 01 14...|                     122|\n",
      "|[,, Mon Jun 01 14...|                     106|\n",
      "|[,, Mon Jun 01 14...|                      28|\n",
      "|[,, Mon Jun 01 14...|                     220|\n",
      "|[,, Mon Jun 01 14...|                     156|\n",
      "|[,, Mon Jun 01 14...|                     160|\n",
      "|[,, Mon Jun 01 14...|                     636|\n",
      "|[,, Mon Jun 01 14...|                      50|\n",
      "|[,, Mon Jun 01 14...|                      56|\n",
      "|[,, Mon Jun 01 14...|                    2498|\n",
      "|[,, Mon Jun 01 14...|                     570|\n",
      "|[,, Mon Jun 01 14...|                      30|\n",
      "|[,, Mon Jun 01 14...|                    1854|\n",
      "|[,, Mon Jun 01 14...|                     280|\n",
      "|[,, Mon Jun 01 14...|                     124|\n",
      "|[,, Mon Jun 01 14...|                     232|\n",
      "|[,, Mon Jun 01 14...|                     618|\n",
      "+--------------------+------------------------+\n",
      "only showing top 20 rows\n",
      "\n"
     ]
    }
   ],
   "source": [
    "ddf.withColumn(\"follower_count_times_two\", multiply(col(\"tweets.user.`followers_count`\"))).show()"
   ]
  },
  {
   "cell_type": "code",
   "execution_count": 62,
   "metadata": {},
   "outputs": [],
   "source": [
    "tweets.stop()"
   ]
  },
  {
   "cell_type": "code",
   "execution_count": null,
   "metadata": {},
   "outputs": [],
   "source": []
  }
 ],
 "metadata": {
  "kernelspec": {
   "display_name": "Python 3",
   "language": "python",
   "name": "python3"
  },
  "language_info": {
   "codemirror_mode": {
    "name": "ipython",
    "version": 3
   },
   "file_extension": ".py",
   "mimetype": "text/x-python",
   "name": "python",
   "nbconvert_exporter": "python",
   "pygments_lexer": "ipython3",
   "version": "3.7.6"
  }
 },
 "nbformat": 4,
 "nbformat_minor": 4
}
